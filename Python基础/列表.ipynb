{
 "cells": [
  {
   "metadata": {},
   "cell_type": "markdown",
   "source": "# 列表",
   "id": "ae0c1fdb43d403b1"
  },
  {
   "metadata": {},
   "cell_type": "markdown",
   "source": [
    "是指一系列的按特定顺序排列的元素组成\n",
    "使用[]定义列表，用,分隔开，列表中的元素可以是任意的数据类型"
   ],
   "id": "b3d346adb719fa1f"
  },
  {
   "metadata": {},
   "cell_type": "markdown",
   "source": "## 创建列表",
   "id": "3adea6e25b86899b"
  },
  {
   "metadata": {
    "ExecuteTime": {
     "end_time": "2025-06-11T07:34:40.236956Z",
     "start_time": "2025-06-11T07:34:40.221030Z"
    }
   },
   "cell_type": "code",
   "source": [
    " #直接使用[]创建\n",
    "a=['hello','world','python',]\n",
    "print(a)\n",
    "#使用内置函数创建\n",
    "b=list('helloworld')\n",
    "print(b)\n",
    "c=list(range(1,10,2))\n",
    "print(c)\n",
    "print(len(a),len(b),len(c))#查看列表长度"
   ],
   "id": "1e075d54c7300a5a",
   "outputs": [
    {
     "name": "stdout",
     "output_type": "stream",
     "text": [
      "['hello', 'world', 'python']\n",
      "['h', 'e', 'l', 'l', 'o', 'w', 'o', 'r', 'l', 'd']\n",
      "[1, 3, 5, 7, 9]\n",
      "3 10 5\n"
     ]
    }
   ],
   "execution_count": 7
  },
  {
   "metadata": {},
   "cell_type": "markdown",
   "source": "## 修改列表",
   "id": "1ebaa1ad4ddb7800"
  },
  {
   "metadata": {
    "ExecuteTime": {
     "end_time": "2025-06-11T07:43:28.736876Z",
     "start_time": "2025-06-11T07:43:28.704956Z"
    }
   },
   "cell_type": "code",
   "source": [
    "#替换元素\n",
    "a=[1,2,3,4]\n",
    "a[1:3]=[12,24]#将[2,3]替换为[12，24]\n",
    "print(a)"
   ],
   "id": "fddd7536044c2054",
   "outputs": [
    {
     "name": "stdout",
     "output_type": "stream",
     "text": [
      "[1, 12, 24, 4]\n"
     ]
    }
   ],
   "execution_count": 22
  },
  {
   "metadata": {
    "ExecuteTime": {
     "end_time": "2025-06-11T07:48:49.913101Z",
     "start_time": "2025-06-11T07:48:49.896562Z"
    }
   },
   "cell_type": "code",
   "source": [
    "#删除列表中的分片\n",
    "a = [10, 1, 2, 11, 12]\n",
    "print(a[1:4])\n",
    "a[1:4] = []\n",
    "print(a)"
   ],
   "id": "5583f2083d0562c",
   "outputs": [
    {
     "name": "stdout",
     "output_type": "stream",
     "text": [
      "[1, 2, 11]\n",
      "[10, 12]\n"
     ]
    }
   ],
   "execution_count": 25
  },
  {
   "metadata": {
    "ExecuteTime": {
     "end_time": "2025-06-11T07:51:05.074215Z",
     "start_time": "2025-06-11T07:51:05.057182Z"
    }
   },
   "cell_type": "code",
   "source": [
    "#del删除列表中的元素\n",
    "a=[1,2,3,4,5,6,7,8,9]\n",
    "del a[0]\n",
    "print(a)\n",
    "del a[2:4]#删除第三第四个元素，步长为1\n",
    "print(a)"
   ],
   "id": "d8d74878d5959b4b",
   "outputs": [
    {
     "name": "stdout",
     "output_type": "stream",
     "text": [
      "[2, 3, 4, 5, 6, 7, 8, 9]\n",
      "[2, 3, 6, 7, 8, 9]\n"
     ]
    }
   ],
   "execution_count": 28
  },
  {
   "metadata": {},
   "cell_type": "markdown",
   "source": "## 列表方法",
   "id": "9fe2fd6c5217e77a"
  },
  {
   "metadata": {
    "ExecuteTime": {
     "end_time": "2025-06-11T07:55:12.017074Z",
     "start_time": "2025-06-11T07:55:12.002230Z"
    }
   },
   "cell_type": "code",
   "source": [
    "a=[1,2,2,3,4,5,6,7,8,9]\n",
    "print(len(a))#总长度\n",
    "print(a.count(2))#2出现的个数\n",
    "print(a.index(7))#7第一次出现的位置"
   ],
   "id": "24d68d99f374eae7",
   "outputs": [
    {
     "name": "stdout",
     "output_type": "stream",
     "text": [
      "10\n",
      "2\n",
      "7\n"
     ]
    }
   ],
   "execution_count": 30
  },
  {
   "metadata": {},
   "cell_type": "markdown",
   "source": "### 列表的添加",
   "id": "89001f997dc64adc"
  },
  {
   "metadata": {
    "ExecuteTime": {
     "end_time": "2025-06-11T08:02:40.684167Z",
     "start_time": "2025-06-11T08:02:40.672853Z"
    }
   },
   "cell_type": "code",
   "source": [
    "#添加元素\n",
    "a=[1,2,2]\n",
    "a.append(10)\n",
    "print(a)\n",
    "a.append(['d'])\n",
    "print(a)\n",
    "#添加序列\n",
    "a.extend([1,2,'e'])\n",
    "print(a)\n",
    "#插入元素\n",
    "a.insert(2,'f')#在索引2中插入f,之后的元素依次后移\n",
    "print(a)"
   ],
   "id": "332d5c0802141025",
   "outputs": [
    {
     "name": "stdout",
     "output_type": "stream",
     "text": [
      "[1, 2, 2, 10]\n",
      "[1, 2, 2, 10, ['d']]\n",
      "[1, 2, 2, 10, ['d'], 1, 2, 'e']\n",
      "[1, 2, 'f', 2, 10, ['d'], 1, 2, 'e']\n"
     ]
    }
   ],
   "execution_count": 40
  },
  {
   "metadata": {},
   "cell_type": "markdown",
   "source": "### 列表的移除",
   "id": "f426a61518b74529"
  },
  {
   "metadata": {
    "ExecuteTime": {
     "end_time": "2025-06-11T08:06:37.933994Z",
     "start_time": "2025-06-11T08:06:37.929862Z"
    }
   },
   "cell_type": "code",
   "source": [
    "#删除元素\n",
    "a=[1,2,4,3]\n",
    "a.remove(4)\n",
    "print(a)\n",
    "#弹出元素\n",
    "h=a.pop(0)\n",
    "print(h)#返回弹出的元素\n",
    "print(a)"
   ],
   "id": "93ec7da15738c10c",
   "outputs": [
    {
     "name": "stdout",
     "output_type": "stream",
     "text": [
      "[1, 2, 3]\n",
      "1\n",
      "[2, 3]\n"
     ]
    }
   ],
   "execution_count": 42
  },
  {
   "metadata": {},
   "cell_type": "markdown",
   "source": "### 列表的排序",
   "id": "d2136f2e0d081480"
  },
  {
   "metadata": {
    "ExecuteTime": {
     "end_time": "2025-06-12T02:48:52.661238Z",
     "start_time": "2025-06-12T02:48:52.649238Z"
    }
   },
   "cell_type": "code",
   "source": [
    "#将列表中的元素按照一定的规则排序\n",
    "a=[1,4,3,10,2,7,5,6]\n",
    "a.sort()\n",
    "print(a)\n",
    "#如果不想改变原来列表中的值，可以使用 sorted 函数\n",
    "a=[1,4,3,10,2,7,5,6]\n",
    "b=sorted(a)\n",
    "print(b)\n",
    "print(a)\n",
    "#列表反向\n",
    "a=[1,4,3,10,2,7,5,6]\n",
    "a.reverse()\n",
    "print(a)\n",
    "print(a.reverse())#没有返回值"
   ],
   "id": "d3165ebdebfbd10a",
   "outputs": [
    {
     "name": "stdout",
     "output_type": "stream",
     "text": [
      "[1, 2, 3, 4, 5, 6, 7, 10]\n",
      "[1, 2, 3, 4, 5, 6, 7, 10]\n",
      "[1, 4, 3, 10, 2, 7, 5, 6]\n",
      "[6, 5, 7, 2, 10, 3, 4, 1]\n",
      "None\n"
     ]
    }
   ],
   "execution_count": 1
  },
  {
   "metadata": {},
   "cell_type": "markdown",
   "source": "## 列表的遍历",
   "id": "eb0471f389660daa"
  },
  {
   "metadata": {},
   "cell_type": "markdown",
   "source": "### for循环",
   "id": "cefa99bb920900d4"
  },
  {
   "metadata": {
    "ExecuteTime": {
     "end_time": "2025-06-11T08:20:42.757707Z",
     "start_time": "2025-06-11T08:20:42.740175Z"
    }
   },
   "cell_type": "code",
   "source": [
    "lst=['hello','world','python','linux']\n",
    "for a in lst:\n",
    "    print(a)"
   ],
   "id": "f7f7efd53633639e",
   "outputs": [
    {
     "name": "stdout",
     "output_type": "stream",
     "text": [
      "hello\n",
      "world\n",
      "python\n",
      "linux\n"
     ]
    }
   ],
   "execution_count": 50
  },
  {
   "metadata": {
    "ExecuteTime": {
     "end_time": "2025-06-11T08:23:24.309073Z",
     "start_time": "2025-06-11T08:23:24.296072Z"
    }
   },
   "cell_type": "code",
   "source": [
    "for a in range(0,len(lst)):\n",
    "    print(a,'\\t',lst[a])"
   ],
   "id": "c9ced8bcfb5f080e",
   "outputs": [
    {
     "name": "stdout",
     "output_type": "stream",
     "text": [
      "0 \t hello\n",
      "1 \t world\n",
      "2 \t python\n",
      "3 \t linux\n"
     ]
    }
   ],
   "execution_count": 52
  },
  {
   "metadata": {},
   "cell_type": "markdown",
   "source": "### enumearte函数",
   "id": "7e5d6e3679afd572"
  },
  {
   "metadata": {
    "ExecuteTime": {
     "end_time": "2025-06-11T08:27:23.788670Z",
     "start_time": "2025-06-11T08:27:23.772650Z"
    }
   },
   "cell_type": "code",
   "source": [
    "#a为序号，b为列表的元素\n",
    "for a,b in enumerate(lst):\n",
    "    print(a,'\\t',b)\n",
    "#可以手动设置序号的起始值\n",
    "print('\\n')\n",
    "for a,c in enumerate(lst,start=1):#start可以省略不写\n",
    "    print(a,'\\t',c)"
   ],
   "id": "f8d3a527f611f924",
   "outputs": [
    {
     "name": "stdout",
     "output_type": "stream",
     "text": [
      "0 \t hello\n",
      "1 \t world\n",
      "2 \t python\n",
      "3 \t linux\n",
      "\n",
      "\n",
      "1 \t hello\n",
      "2 \t world\n",
      "3 \t python\n",
      "4 \t linux\n"
     ]
    }
   ],
   "execution_count": 55
  },
  {
   "metadata": {},
   "cell_type": "markdown",
   "source": "## 列表的随机生成",
   "id": "d35101ffe11a87f5"
  },
  {
   "metadata": {
    "ExecuteTime": {
     "end_time": "2025-06-11T08:49:08.108580Z",
     "start_time": "2025-06-11T08:49:08.103578Z"
    }
   },
   "cell_type": "code",
   "source": [
    "import random\n",
    "for i in range(10):\n",
    "    a=(random.randint(1,100))\n",
    "    print(a)"
   ],
   "id": "1cbfdcb64dd24768",
   "outputs": [
    {
     "name": "stdout",
     "output_type": "stream",
     "text": [
      "60\n",
      "26\n",
      "84\n",
      "84\n",
      "18\n",
      "88\n",
      "31\n",
      "97\n",
      "60\n",
      "94\n"
     ]
    }
   ],
   "execution_count": 67
  },
  {
   "metadata": {},
   "cell_type": "markdown",
   "source": "## 二维列表生成及其遍历",
   "id": "6c04822496334a79"
  },
  {
   "metadata": {
    "ExecuteTime": {
     "end_time": "2025-06-11T08:54:25.565399Z",
     "start_time": "2025-06-11T08:54:25.546388Z"
    }
   },
   "cell_type": "code",
   "source": [
    "lst=[\n",
    "    ['shanghai','guangdong'],\n",
    "    ['beijing','hongkong'],\n",
    "    ['football','basketball']\n",
    "]\n",
    "for a in lst:\n",
    "    for b in a:\n",
    "        print(b,end='\\t')\n",
    "    print()"
   ],
   "id": "6311e849ee1d42cd",
   "outputs": [
    {
     "name": "stdout",
     "output_type": "stream",
     "text": [
      "shanghai\tguangdong\t\n",
      "beijing\thongkong\t\n",
      "football\tbasketball\t\n"
     ]
    }
   ],
   "execution_count": 72
  }
 ],
 "metadata": {
  "kernelspec": {
   "display_name": "Python 3",
   "language": "python",
   "name": "python3"
  },
  "language_info": {
   "codemirror_mode": {
    "name": "ipython",
    "version": 2
   },
   "file_extension": ".py",
   "mimetype": "text/x-python",
   "name": "python",
   "nbconvert_exporter": "python",
   "pygments_lexer": "ipython2",
   "version": "2.7.6"
  }
 },
 "nbformat": 4,
 "nbformat_minor": 5
}
