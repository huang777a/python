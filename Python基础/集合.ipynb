{
 "cells": [
  {
   "metadata": {},
   "cell_type": "markdown",
   "source": "# 集合",
   "id": "ce045e70ca10a1c3"
  },
  {
   "metadata": {},
   "cell_type": "markdown",
   "source": [
    "无序的不重复的元素序列，只能存储不可变数据类型（整数，浮点数，元组）\n",
    "\n",
    "用{}定义，可变数据类型"
   ],
   "id": "32ad72326d687d27"
  },
  {
   "metadata": {},
   "cell_type": "markdown",
   "source": "## 集合的创建",
   "id": "702823b4065bade8"
  },
  {
   "metadata": {
    "ExecuteTime": {
     "end_time": "2025-06-12T01:56:20.257969Z",
     "start_time": "2025-06-12T01:56:20.248913Z"
    }
   },
   "cell_type": "code",
   "source": [
    "#直接使用{}\n",
    "s={10,20,30,40}\n",
    "print(s)"
   ],
   "id": "881e4ce433ce957c",
   "outputs": [
    {
     "name": "stdout",
     "output_type": "stream",
     "text": [
      "{40, 10, 20, 30}\n"
     ]
    }
   ],
   "execution_count": 1
  },
  {
   "metadata": {
    "ExecuteTime": {
     "end_time": "2025-06-12T01:59:54.788861Z",
     "start_time": "2025-06-12T01:59:54.781861Z"
    }
   },
   "cell_type": "code",
   "source": [
    "#使用set()\n",
    "s=set([10,20,30,40])\n",
    "print(s)"
   ],
   "id": "2f744eea424b1966",
   "outputs": [
    {
     "name": "stdout",
     "output_type": "stream",
     "text": [
      "{40, 10, 20, 30}\n"
     ]
    }
   ],
   "execution_count": 6
  },
  {
   "metadata": {
    "ExecuteTime": {
     "end_time": "2025-06-12T02:01:45.031285Z",
     "start_time": "2025-06-12T02:01:45.020264Z"
    }
   },
   "cell_type": "code",
   "source": [
    "print('max(s)=',max(s))\n",
    "print('min(s)=',min(s))\n",
    "print('sum(s)=',sum(s))\n",
    "print('len(s)=',len(s))"
   ],
   "id": "a2389768ad770245",
   "outputs": [
    {
     "name": "stdout",
     "output_type": "stream",
     "text": [
      "max(s)= 40\n",
      "min(s)= 10\n",
      "sum(s)= 100\n",
      "len(s)= 4\n"
     ]
    }
   ],
   "execution_count": 8
  },
  {
   "metadata": {},
   "cell_type": "markdown",
   "source": "## 集合的操作符",
   "id": "a869ac7383a38e52"
  },
  {
   "metadata": {
    "ExecuteTime": {
     "end_time": "2025-06-12T02:19:41.330898Z",
     "start_time": "2025-06-12T02:19:41.312287Z"
    }
   },
   "cell_type": "code",
   "source": [
    "A={10,20,30,40}\n",
    "B={10,30,50,60}\n",
    "#交集\n",
    "print(A&B)\n",
    "#并集\n",
    "print(A|B)\n",
    "#差集\n",
    "print(A-B)\n",
    "#补集\n",
    "print(A^B)"
   ],
   "id": "9e130baa1a3fb3c2",
   "outputs": [
    {
     "name": "stdout",
     "output_type": "stream",
     "text": [
      "{10, 30}\n",
      "{40, 10, 50, 20, 60, 30}\n",
      "{40, 20}\n",
      "{40, 50, 20, 60}\n"
     ]
    }
   ],
   "execution_count": 11
  },
  {
   "metadata": {},
   "cell_type": "markdown",
   "source": "## 集合的相关操作",
   "id": "e8be69f59f140512"
  },
  {
   "metadata": {
    "ExecuteTime": {
     "end_time": "2025-06-12T02:25:40.809560Z",
     "start_time": "2025-06-12T02:25:40.792987Z"
    }
   },
   "cell_type": "code",
   "source": [
    "s={10,20,30,40}\n",
    "#添加\n",
    "s.add(60)\n",
    "print(s)\n",
    "#删除\n",
    "s.remove(20)\n",
    "print(s)"
   ],
   "id": "dea041706dfe3d73",
   "outputs": [
    {
     "name": "stdout",
     "output_type": "stream",
     "text": [
      "{40, 10, 20, 60, 30}\n",
      "{40, 10, 60, 30}\n"
     ]
    }
   ],
   "execution_count": 14
  },
  {
   "metadata": {},
   "cell_type": "markdown",
   "source": "## 集合的遍历",
   "id": "24d49919e51499b4"
  },
  {
   "metadata": {
    "ExecuteTime": {
     "end_time": "2025-06-12T02:30:55.416238Z",
     "start_time": "2025-06-12T02:30:55.405244Z"
    }
   },
   "cell_type": "code",
   "source": [
    "s={10,20,30,40}\n",
    "for item in s:\n",
    "    print(item)\n",
    "for index,item in enumerate(s):\n",
    "    print(index,':',item)"
   ],
   "id": "72df120cd81a455f",
   "outputs": [
    {
     "name": "stdout",
     "output_type": "stream",
     "text": [
      "40\n",
      "10\n",
      "20\n",
      "30\n",
      "0 : 40\n",
      "1 : 10\n",
      "2 : 20\n",
      "3 : 30\n"
     ]
    }
   ],
   "execution_count": 17
  },
  {
   "metadata": {},
   "cell_type": "markdown",
   "source": "## 集合的生成式",
   "id": "ce9d7c7815f0f84b"
  },
  {
   "metadata": {
    "ExecuteTime": {
     "end_time": "2025-06-12T02:33:15.632773Z",
     "start_time": "2025-06-12T02:33:15.613772Z"
    }
   },
   "cell_type": "code",
   "source": [
    "s={i for i in range(1,10)}\n",
    "print(s)"
   ],
   "id": "739bb47e4ac1518d",
   "outputs": [
    {
     "name": "stdout",
     "output_type": "stream",
     "text": [
      "{1, 2, 3, 4, 5, 6, 7, 8, 9}\n"
     ]
    }
   ],
   "execution_count": 18
  }
 ],
 "metadata": {
  "kernelspec": {
   "display_name": "Python 3",
   "language": "python",
   "name": "python3"
  },
  "language_info": {
   "codemirror_mode": {
    "name": "ipython",
    "version": 2
   },
   "file_extension": ".py",
   "mimetype": "text/x-python",
   "name": "python",
   "nbconvert_exporter": "python",
   "pygments_lexer": "ipython2",
   "version": "2.7.6"
  }
 },
 "nbformat": 4,
 "nbformat_minor": 5
}
