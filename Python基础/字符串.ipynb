{
 "cells": [
  {
   "metadata": {},
   "cell_type": "markdown",
   "source": "# 字符串",
   "id": "8aa4d73a54818360"
  },
  {
   "metadata": {},
   "cell_type": "markdown",
   "source": "## 大小写转换",
   "id": "a5c73383de6a7575"
  },
  {
   "metadata": {
    "ExecuteTime": {
     "end_time": "2025-06-12T03:39:03.880312Z",
     "start_time": "2025-06-12T03:39:03.859313Z"
    }
   },
   "cell_type": "code",
   "source": [
    "s='HelloWorld'\n",
    "#小写\n",
    "s1=s.lower()\n",
    "print(s1)\n",
    "#大写\n",
    "s2=s.upper()\n",
    "print(s2)"
   ],
   "id": "269ca47da9d259ba",
   "outputs": [
    {
     "name": "stdout",
     "output_type": "stream",
     "text": [
      "helloworld\n",
      "HELLOWORLD\n"
     ]
    }
   ],
   "execution_count": 1
  },
  {
   "metadata": {},
   "cell_type": "markdown",
   "source": "## 字符串分割",
   "id": "2a0edb296957dd7a"
  },
  {
   "metadata": {
    "ExecuteTime": {
     "end_time": "2025-06-12T03:44:07.356125Z",
     "start_time": "2025-06-12T03:44:07.348976Z"
    }
   },
   "cell_type": "code",
   "source": [
    "email='huang@qq.com'\n",
    "lst=email.split('@')\n",
    "print('邮箱名：',lst[0],'服务器域名：',lst[1])"
   ],
   "id": "23916c62c1594822",
   "outputs": [
    {
     "name": "stdout",
     "output_type": "stream",
     "text": [
      "邮箱名： huang 服务器域名： qq.com\n"
     ]
    }
   ],
   "execution_count": 2
  },
  {
   "metadata": {},
   "cell_type": "markdown",
   "source": "## 字符串检索",
   "id": "7ce36433fd469393"
  },
  {
   "metadata": {
    "ExecuteTime": {
     "end_time": "2025-06-12T03:49:31.457597Z",
     "start_time": "2025-06-12T03:49:31.449592Z"
    }
   },
   "cell_type": "code",
   "source": [
    "s='HelloWorld'\n",
    "print(s.find('o'))\n",
    "print(s.find('p'))#没有找到不会报错，输出-1（index会报错）"
   ],
   "id": "cb9fc4b476dea7f6",
   "outputs": [
    {
     "name": "stdout",
     "output_type": "stream",
     "text": [
      "4\n",
      "-1\n"
     ]
    }
   ],
   "execution_count": 3
  },
  {
   "metadata": {},
   "cell_type": "markdown",
   "source": "## 判断前缀后缀",
   "id": "879b458cf7ddcae0"
  },
  {
   "metadata": {
    "ExecuteTime": {
     "end_time": "2025-06-12T03:52:33.323743Z",
     "start_time": "2025-06-12T03:52:33.316743Z"
    }
   },
   "cell_type": "code",
   "source": [
    "print(s.startswith('H'))\n",
    "print(s.startswith('o'))\n",
    "print(s.endswith('d'))\n",
    "print(s.endswith('e'))"
   ],
   "id": "6a410a01ab17c3c4",
   "outputs": [
    {
     "name": "stdout",
     "output_type": "stream",
     "text": [
      "True\n",
      "False\n",
      "True\n",
      "False\n"
     ]
    }
   ],
   "execution_count": 4
  },
  {
   "metadata": {},
   "cell_type": "markdown",
   "source": "## 字符串的替换",
   "id": "de2601f5e06153ca"
  },
  {
   "metadata": {
    "ExecuteTime": {
     "end_time": "2025-06-12T06:32:27.507590Z",
     "start_time": "2025-06-12T06:32:27.494564Z"
    }
   },
   "cell_type": "code",
   "source": [
    "s='HelloWorld'\n",
    "s1=s.replace('o','7',1)#最后一个参数是替换次数，默认全部替换\n",
    "print(s1)"
   ],
   "id": "71dc25ea5c2bf92e",
   "outputs": [
    {
     "name": "stdout",
     "output_type": "stream",
     "text": [
      "Hell7World\n"
     ]
    }
   ],
   "execution_count": 8
  },
  {
   "metadata": {},
   "cell_type": "markdown",
   "source": "## 字符串在指定宽度范围内居中",
   "id": "fbe74359f8c008a6"
  },
  {
   "metadata": {
    "ExecuteTime": {
     "end_time": "2025-06-12T06:35:01.401766Z",
     "start_time": "2025-06-12T06:35:01.383767Z"
    }
   },
   "cell_type": "code",
   "source": [
    "s='HelloWorld'\n",
    "print(s.center(20,'*'))"
   ],
   "id": "f009e94deb95755d",
   "outputs": [
    {
     "name": "stdout",
     "output_type": "stream",
     "text": [
      "*****HelloWorld*****\n"
     ]
    }
   ],
   "execution_count": 12
  },
  {
   "metadata": {},
   "cell_type": "markdown",
   "source": "## 去掉字符串的字符",
   "id": "b60808404817f64"
  },
  {
   "metadata": {
    "ExecuteTime": {
     "end_time": "2025-06-12T06:43:25.513242Z",
     "start_time": "2025-06-12T06:43:25.501242Z"
    }
   },
   "cell_type": "code",
   "source": [
    "s='    Hello    World    '\n",
    "#去掉左右的空格\n",
    "print(s.strip())\n",
    "#去掉左边的空格\n",
    "print(s.lstrip())\n",
    "#去掉右边的空格\n",
    "print(s.rstrip())\n",
    "#去掉指定的字符\n",
    "s1='dlHelloWorld'\n",
    "print(s1.strip('ld'))#与字母顺序无关"
   ],
   "id": "666f34f45132b5b2",
   "outputs": [
    {
     "name": "stdout",
     "output_type": "stream",
     "text": [
      "Hello    World\n",
      "Hello    World    \n",
      "    Hello    World\n",
      "HelloWor\n"
     ]
    }
   ],
   "execution_count": 29
  },
  {
   "metadata": {},
   "cell_type": "markdown",
   "source": "## 格式化字符串",
   "id": "4c22cedeb37ad91c"
  },
  {
   "metadata": {
    "ExecuteTime": {
     "end_time": "2025-06-12T07:09:18.506282Z",
     "start_time": "2025-06-12T07:09:18.492236Z"
    }
   },
   "cell_type": "code",
   "source": [
    "name='huang'\n",
    "age=21\n",
    "score=100\n",
    "#使用占位符\n",
    "print('姓名：%s，年龄：%d，成绩：%.1f'%(name,age,score))\n",
    "#使用f-string\n",
    "print(f'姓名：',name,'年龄：',age,'成绩：',score)\n",
    "#使用str.format()方法\n",
    "print('姓名:{0},年龄:{1},成绩:{2}'.format(name,age,score))"
   ],
   "id": "6eecc17275d57faa",
   "outputs": [
    {
     "name": "stdout",
     "output_type": "stream",
     "text": [
      "姓名：huang，年龄：21，成绩：100.0\n",
      "姓名： huang 年龄： 21 成绩： 100\n",
      "姓名:huang,年龄:21,成绩:100\n"
     ]
    }
   ],
   "execution_count": 42
  },
  {
   "metadata": {},
   "cell_type": "markdown",
   "source": [
    ":引导符号\n",
    "\n",
    "对齐方式：<：左对齐 >：右对齐 ^：居中对齐\n",
    "\n",
    ",:数字的千位分隔符\n",
    "\n",
    ".精度:浮点数小数部分的精度或字符串的最大输出长度\n",
    "\n",
    "整数类型：二进制:b 十进制:d 八进制:o 十六进制:x,X\n",
    "\n",
    "浮点数类型：f:小数点后有效数字 e,E:科学计数法 %:百分数"
   ],
   "id": "d74782fbbf815e7f"
  },
  {
   "metadata": {
    "ExecuteTime": {
     "end_time": "2025-06-12T07:27:33.333771Z",
     "start_time": "2025-06-12T07:27:33.328770Z"
    }
   },
   "cell_type": "code",
   "source": [
    "s='HelloWorld'\n",
    "print('{0:*<20}'.format(s))#0:format中第一个参数\n",
    "print('{0:*>20}'.format(s))\n",
    "print('{0:*^20}'.format(s))"
   ],
   "id": "e6529528b393f02",
   "outputs": [
    {
     "name": "stdout",
     "output_type": "stream",
     "text": [
      "HelloWorld**********\n",
      "**********HelloWorld\n",
      "*****HelloWorld*****\n"
     ]
    }
   ],
   "execution_count": 48
  },
  {
   "metadata": {
    "ExecuteTime": {
     "end_time": "2025-06-12T07:30:56.897633Z",
     "start_time": "2025-06-12T07:30:56.886635Z"
    }
   },
   "cell_type": "code",
   "source": [
    "#千位分隔符（只适用于整数和小数）\n",
    "print('{0:,}'.format(123456789))\n",
    "print('{0:,}'.format(987582.12345))"
   ],
   "id": "27823dd5153da9d",
   "outputs": [
    {
     "name": "stdout",
     "output_type": "stream",
     "text": [
      "123,456,789\n",
      "987,582.12345\n"
     ]
    }
   ],
   "execution_count": 52
  },
  {
   "metadata": {
    "ExecuteTime": {
     "end_time": "2025-06-12T07:34:26.354299Z",
     "start_time": "2025-06-12T07:34:26.338718Z"
    }
   },
   "cell_type": "code",
   "source": [
    "#浮点数小数部分的精度\n",
    "print('{0:.2f}'.format(45.9464))\n",
    "print('{0:.5}'.format('china520'))"
   ],
   "id": "bb018b42c8832888",
   "outputs": [
    {
     "name": "stdout",
     "output_type": "stream",
     "text": [
      "45.95\n",
      "china\n"
     ]
    }
   ],
   "execution_count": 60
  },
  {
   "metadata": {
    "ExecuteTime": {
     "end_time": "2025-06-12T07:46:23.787439Z",
     "start_time": "2025-06-12T07:46:23.782438Z"
    }
   },
   "cell_type": "code",
   "source": [
    "#整数类型\n",
    "a=222\n",
    "print('二进制:{0:b},十进制:{0:d},八进制:{0:o},十六进制:{0:x},十六进制:{0:X}'.format(a))"
   ],
   "id": "3afca9a22ad0322c",
   "outputs": [
    {
     "name": "stdout",
     "output_type": "stream",
     "text": [
      "二进制:11011110,十进制:222,八进制:336,十六进制:de,十六进制:DE\n"
     ]
    }
   ],
   "execution_count": 61
  },
  {
   "metadata": {
    "ExecuteTime": {
     "end_time": "2025-06-12T07:50:21.800923Z",
     "start_time": "2025-06-12T07:50:21.792924Z"
    }
   },
   "cell_type": "code",
   "source": [
    "#浮点数类型\n",
    "b=3.1415926535\n",
    "print('{0:.2f},{0:.3e},{0:.3E},{0:.2%}'.format(b))"
   ],
   "id": "8dbfefb15b76c07e",
   "outputs": [
    {
     "name": "stdout",
     "output_type": "stream",
     "text": [
      "3.14,3.142e+00,3.142E+00,314.16%\n"
     ]
    }
   ],
   "execution_count": 62
  }
 ],
 "metadata": {
  "kernelspec": {
   "display_name": "Python 3",
   "language": "python",
   "name": "python3"
  },
  "language_info": {
   "codemirror_mode": {
    "name": "ipython",
    "version": 2
   },
   "file_extension": ".py",
   "mimetype": "text/x-python",
   "name": "python",
   "nbconvert_exporter": "python",
   "pygments_lexer": "ipython2",
   "version": "2.7.6"
  }
 },
 "nbformat": 4,
 "nbformat_minor": 5
}
