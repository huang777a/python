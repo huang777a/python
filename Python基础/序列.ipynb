{
 "cells": [
  {
   "metadata": {},
   "cell_type": "markdown",
   "source": [
    "# 序列\n",
    "\n",
    "\n"
   ],
   "id": "a8d19c286918a074"
  },
  {
   "metadata": {},
   "cell_type": "markdown",
   "source": "## 序列的相关操作",
   "id": "6947333f3c7ec59a"
  },
  {
   "metadata": {
    "ExecuteTime": {
     "end_time": "2025-06-11T07:25:02.542631Z",
     "start_time": "2025-06-11T07:25:02.526546Z"
    }
   },
   "cell_type": "code",
   "source": [
    "#in的使用\n",
    "s='helloworld'\n",
    "print('e在s中存在吗',('e'in s))\n",
    "print('a在s中存在吗',('a'in s))"
   ],
   "id": "97677abe0fcc3e56",
   "outputs": [
    {
     "name": "stdout",
     "output_type": "stream",
     "text": [
      "e在s中存在吗 True\n",
      "a在s中存在吗 False\n"
     ]
    }
   ],
   "execution_count": 2
  },
  {
   "metadata": {
    "ExecuteTime": {
     "end_time": "2025-06-11T07:25:04.368616Z",
     "start_time": "2025-06-11T07:25:04.360854Z"
    }
   },
   "cell_type": "code",
   "source": [
    "#not in的使用\n",
    "print('e在s中不存在吗',('e'not in s))\n",
    "print('a在s中不存在吗',('a'not in s))"
   ],
   "id": "fff581936206b578",
   "outputs": [
    {
     "name": "stdout",
     "output_type": "stream",
     "text": [
      "e在s中不存在吗 False\n",
      "a在s中不存在吗 True\n"
     ]
    }
   ],
   "execution_count": 3
  },
  {
   "metadata": {
    "ExecuteTime": {
     "end_time": "2025-06-11T07:25:05.730487Z",
     "start_time": "2025-06-11T07:25:05.725869Z"
    }
   },
   "cell_type": "code",
   "source": [
    "#内置函数的使用\n",
    "print('len:',len(s))\n",
    "print('max:',max(s))\n",
    "print('min:',min(s))"
   ],
   "id": "2f086dc6fa4f3c7",
   "outputs": [
    {
     "name": "stdout",
     "output_type": "stream",
     "text": [
      "len: 10\n",
      "max: w\n",
      "min: d\n"
     ]
    }
   ],
   "execution_count": 4
  },
  {
   "metadata": {
    "ExecuteTime": {
     "end_time": "2025-06-11T07:25:07.203546Z",
     "start_time": "2025-06-11T07:25:07.196930Z"
    }
   },
   "cell_type": "code",
   "source": [
    "#方法\n",
    "print('s.index():',s.index('l'))#l在s中第一次出现的索引位置\n",
    "print('s.count():',s.count('o'))#统计o在s中出现的次数"
   ],
   "id": "993a8326efa0ae8a",
   "outputs": [
    {
     "name": "stdout",
     "output_type": "stream",
     "text": [
      "s.index(): 2\n",
      "s.count(): 2\n"
     ]
    }
   ],
   "execution_count": 5
  }
 ],
 "metadata": {
  "kernelspec": {
   "display_name": "Python 3",
   "language": "python",
   "name": "python3"
  },
  "language_info": {
   "codemirror_mode": {
    "name": "ipython",
    "version": 2
   },
   "file_extension": ".py",
   "mimetype": "text/x-python",
   "name": "python",
   "nbconvert_exporter": "python",
   "pygments_lexer": "ipython2",
   "version": "2.7.6"
  }
 },
 "nbformat": 4,
 "nbformat_minor": 5
}
