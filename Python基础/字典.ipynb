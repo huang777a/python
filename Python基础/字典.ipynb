{
 "cells": [
  {
   "metadata": {},
   "cell_type": "markdown",
   "source": "# 字典",
   "id": "2c96c7f67b8b5b93"
  },
  {
   "metadata": {},
   "cell_type": "markdown",
   "source": "key:键  value:值，具体的对象",
   "id": "395d9e8daa5fbd3b"
  },
  {
   "metadata": {},
   "cell_type": "markdown",
   "source": "## 创建字典",
   "id": "a795914008daae80"
  },
  {
   "metadata": {
    "ExecuteTime": {
     "end_time": "2025-06-11T09:41:00.239114Z",
     "start_time": "2025-06-11T09:41:00.229115Z"
    }
   },
   "cell_type": "code",
   "source": [
    "#直接使用{}\n",
    "d={10:'hello',20:'world',30:'dog'}\n",
    "print(d)\n",
    "\n"
   ],
   "id": "be7ff8269ef50d22",
   "outputs": [
    {
     "name": "stdout",
     "output_type": "stream",
     "text": [
      "{10: 'hello', 20: 'world', 30: 'dog'}\n"
     ]
    }
   ],
   "execution_count": 4
  },
  {
   "metadata": {
    "ExecuteTime": {
     "end_time": "2025-06-11T09:41:04.067297Z",
     "start_time": "2025-06-11T09:41:04.060297Z"
    }
   },
   "cell_type": "code",
   "source": [
    "#zip函数\n",
    "lst1=[1,2,3,4]\n",
    "lst2=['cat','mouse','zoo','man']\n",
    "z=zip(lst1,lst2)\n",
    "d=dict(z)\n",
    "print(d)"
   ],
   "id": "e1ac8bfce6d9ab04",
   "outputs": [
    {
     "name": "stdout",
     "output_type": "stream",
     "text": [
      "{1: 'cat', 2: 'mouse', 3: 'zoo', 4: 'man'}\n"
     ]
    }
   ],
   "execution_count": 5
  },
  {
   "metadata": {
    "ExecuteTime": {
     "end_time": "2025-06-11T09:44:17.117467Z",
     "start_time": "2025-06-11T09:44:17.100507Z"
    }
   },
   "cell_type": "code",
   "source": [
    "#使用参数创建字典\n",
    "d=dict(cat=10,dog=20)\n",
    "print(d)\n",
    "#元组可卡因作为字典的键，列表不可以\n",
    "t=(10,20,30)\n",
    "print({t:10})"
   ],
   "id": "96a6c7bbe49f075",
   "outputs": [
    {
     "name": "stdout",
     "output_type": "stream",
     "text": [
      "{'cat': 10, 'dog': 20}\n",
      "{(10, 20, 30): 10}\n"
     ]
    }
   ],
   "execution_count": 7
  },
  {
   "metadata": {
    "ExecuteTime": {
     "end_time": "2025-06-11T09:48:05.738313Z",
     "start_time": "2025-06-11T09:48:05.719820Z"
    }
   },
   "cell_type": "code",
   "source": [
    "d=dict(cat=10,dog=20,mouse=30,rabit=50)\n",
    "print(max(d))\n",
    "print(min(d))\n",
    "print(len(d))"
   ],
   "id": "7a60e7afe08c901c",
   "outputs": [
    {
     "name": "stdout",
     "output_type": "stream",
     "text": [
      "rabit\n",
      "cat\n",
      "4\n"
     ]
    }
   ],
   "execution_count": 21
  },
  {
   "metadata": {},
   "cell_type": "markdown",
   "source": "## 字典的访问",
   "id": "187bbb739178d8eb"
  },
  {
   "metadata": {
    "ExecuteTime": {
     "end_time": "2025-06-11T10:04:09.202646Z",
     "start_time": "2025-06-11T10:04:09.195646Z"
    }
   },
   "cell_type": "code",
   "source": [
    "d={'hello':10,'world':20,'python':30}\n",
    "#使用d[key]\n",
    "print(d['python'])"
   ],
   "id": "6b7ba69523e257a9",
   "outputs": [
    {
     "name": "stdout",
     "output_type": "stream",
     "text": [
      "30\n"
     ]
    }
   ],
   "execution_count": 30
  },
  {
   "metadata": {
    "ExecuteTime": {
     "end_time": "2025-06-11T09:58:15.221898Z",
     "start_time": "2025-06-11T09:58:15.205675Z"
    }
   },
   "cell_type": "code",
   "source": [
    "#使用d.get(key)\n",
    "print(d.get('hello'))"
   ],
   "id": "ba3eb98f25b474d5",
   "outputs": [
    {
     "name": "stdout",
     "output_type": "stream",
     "text": [
      "10\n"
     ]
    }
   ],
   "execution_count": 23
  },
  {
   "metadata": {
    "ExecuteTime": {
     "end_time": "2025-06-11T10:01:27.145717Z",
     "start_time": "2025-06-11T10:01:27.127149Z"
    }
   },
   "cell_type": "code",
   "source": [
    "#d[key]与d.get(key)的区别：key不存在，d[key]会报错，而d.get(key)可以指定值\n",
    "#print(d['java']) KeyError: 'java'\n",
    "print(d.get('java'))\n",
    "print(d.get('java','不存在'))"
   ],
   "id": "ae195ca8e7479a63",
   "outputs": [
    {
     "name": "stdout",
     "output_type": "stream",
     "text": [
      "None\n",
      "不存在\n"
     ]
    }
   ],
   "execution_count": 26
  },
  {
   "metadata": {},
   "cell_type": "markdown",
   "source": "## 字典的遍历",
   "id": "23da35f84febd51f"
  },
  {
   "metadata": {
    "ExecuteTime": {
     "end_time": "2025-06-11T10:05:21.261184Z",
     "start_time": "2025-06-11T10:05:21.245437Z"
    }
   },
   "cell_type": "code",
   "source": [
    "d={'hello':10,'world':20,'python':30}\n",
    "for k,v in d.items():\n",
    "    print(k,'---->',v)\n",
    "for item in d.items():\n",
    "    print(item)"
   ],
   "id": "e9f815ec73fb568b",
   "outputs": [
    {
     "name": "stdout",
     "output_type": "stream",
     "text": [
      "hello ----> 10\n",
      "world ----> 20\n",
      "python ----> 30\n",
      "('hello', 10)\n",
      "('world', 20)\n",
      "('python', 30)\n"
     ]
    }
   ],
   "execution_count": 33
  },
  {
   "metadata": {},
   "cell_type": "markdown",
   "source": "## 字典的方法",
   "id": "2ec769eb1eede652"
  },
  {
   "metadata": {
    "ExecuteTime": {
     "end_time": "2025-06-11T11:11:47.193579Z",
     "start_time": "2025-06-11T11:11:47.184579Z"
    }
   },
   "cell_type": "code",
   "source": [
    "d={1001:'lihua',1002:'lisi',1003:'zhangsan'}\n",
    "print(d)\n",
    "d[1004]='chenliu'\n",
    "print(d)\n"
   ],
   "id": "90de452a561e52ca",
   "outputs": [
    {
     "name": "stdout",
     "output_type": "stream",
     "text": [
      "{1001: 'lihua', 1002: 'lisi', 1003: 'zhangsan'}\n",
      "{1001: 'lihua', 1002: 'lisi', 1003: 'zhangsan', 1004: 'chenliu'}\n"
     ]
    }
   ],
   "execution_count": 38
  },
  {
   "metadata": {
    "ExecuteTime": {
     "end_time": "2025-06-11T11:12:04.161899Z",
     "start_time": "2025-06-11T11:12:04.147898Z"
    }
   },
   "cell_type": "code",
   "source": [
    "#获取字典所有key\n",
    "keys=d.keys()\n",
    "print(keys)\n",
    "print(list(keys))\n",
    "print(tuple(keys))"
   ],
   "id": "a604bfc261e82532",
   "outputs": [
    {
     "name": "stdout",
     "output_type": "stream",
     "text": [
      "dict_keys([1001, 1002, 1003, 1004])\n",
      "[1001, 1002, 1003, 1004]\n",
      "(1001, 1002, 1003, 1004)\n"
     ]
    }
   ],
   "execution_count": 39
  },
  {
   "metadata": {
    "ExecuteTime": {
     "end_time": "2025-06-11T11:13:02.286657Z",
     "start_time": "2025-06-11T11:13:02.276937Z"
    }
   },
   "cell_type": "code",
   "source": [
    "#获取字典所有value\n",
    "values=d.values()\n",
    "print(values)\n",
    "print(list(values))\n",
    "print(tuple(values))"
   ],
   "id": "9822ef1ae2688059",
   "outputs": [
    {
     "name": "stdout",
     "output_type": "stream",
     "text": [
      "dict_values(['lihua', 'lisi', 'zhangsan', 'chenliu'])\n",
      "['lihua', 'lisi', 'zhangsan', 'chenliu']\n",
      "('lihua', 'lisi', 'zhangsan', 'chenliu')\n"
     ]
    }
   ],
   "execution_count": 40
  },
  {
   "metadata": {
    "ExecuteTime": {
     "end_time": "2025-06-11T11:17:46.844805Z",
     "start_time": "2025-06-11T11:17:46.830806Z"
    }
   },
   "cell_type": "code",
   "source": [
    "#将字典中的数据转成key-value的形式，以元组的方式展现\n",
    "a=list(d.items())\n",
    "print(a)"
   ],
   "id": "e7cf90b2732c360f",
   "outputs": [
    {
     "name": "stdout",
     "output_type": "stream",
     "text": [
      "[(1001, 'lihua'), (1002, 'lisi'), (1003, 'zhangsan'), (1004, 'chenliu')]\n"
     ]
    }
   ],
   "execution_count": 42
  },
  {
   "metadata": {
    "ExecuteTime": {
     "end_time": "2025-06-11T11:20:18.517767Z",
     "start_time": "2025-06-11T11:20:18.503767Z"
    }
   },
   "cell_type": "code",
   "source": [
    "#pop函数\n",
    "d={1001:'lihua',1002:'lisi',1003:'zhangsan'}\n",
    "a=d.pop(1003)\n",
    "print(d)\n",
    "print(a)"
   ],
   "id": "8ad5a3920419ad99",
   "outputs": [
    {
     "name": "stdout",
     "output_type": "stream",
     "text": [
      "{1001: 'lihua', 1002: 'lisi'}\n",
      "zhangsan\n"
     ]
    }
   ],
   "execution_count": 44
  },
  {
   "metadata": {
    "ExecuteTime": {
     "end_time": "2025-06-11T11:22:01.111836Z",
     "start_time": "2025-06-11T11:22:01.103851Z"
    }
   },
   "cell_type": "code",
   "source": [
    "#随机删除\n",
    "d={1001:'lihua',1002:'lisi',1003:'zhangsan'}\n",
    "print(d.popitem())\n",
    "print(d)"
   ],
   "id": "14079e3ee1d3227b",
   "outputs": [
    {
     "name": "stdout",
     "output_type": "stream",
     "text": [
      "(1003, 'zhangsan')\n",
      "{1001: 'lihua', 1002: 'lisi'}\n"
     ]
    }
   ],
   "execution_count": 45
  },
  {
   "metadata": {
    "ExecuteTime": {
     "end_time": "2025-06-11T11:23:32.973910Z",
     "start_time": "2025-06-11T11:23:32.963909Z"
    }
   },
   "cell_type": "code",
   "source": [
    "#清空\n",
    "d.clear()\n",
    "print(d)\n",
    "print(bool(d))"
   ],
   "id": "bd712942c457e0e9",
   "outputs": [
    {
     "name": "stdout",
     "output_type": "stream",
     "text": [
      "{}\n",
      "False\n"
     ]
    }
   ],
   "execution_count": 48
  },
  {
   "metadata": {},
   "cell_type": "markdown",
   "source": "## 字典生成式",
   "id": "55095dcee75df367"
  },
  {
   "metadata": {},
   "cell_type": "markdown",
   "source": [
    "d={key:value for item in range}\n",
    "\n",
    "d={key:value for key,value in zip(lst1,lst2)}"
   ],
   "id": "c8b2c49e13b85a"
  },
  {
   "metadata": {
    "ExecuteTime": {
     "end_time": "2025-06-11T11:36:42.710999Z",
     "start_time": "2025-06-11T11:36:42.696997Z"
    }
   },
   "cell_type": "code",
   "source": [
    "import random\n",
    "d={item:random.randint(1,100) for item in range(4) }\n",
    "print(d)\n",
    "lst1=[1001,1002,1003]\n",
    "lst2=['zhangsan','lisi','wangwu']\n",
    "d={keys:values for keys,values in zip(lst1,lst2)}\n",
    "print(d)"
   ],
   "id": "9406f206e2d46b61",
   "outputs": [
    {
     "name": "stdout",
     "output_type": "stream",
     "text": [
      "{0: 96, 1: 88, 2: 73, 3: 92}\n",
      "{1001: 'zhangsan', 1002: 'lisi', 1003: 'wangwu'}\n"
     ]
    }
   ],
   "execution_count": 62
  }
 ],
 "metadata": {
  "kernelspec": {
   "display_name": "Python 3",
   "language": "python",
   "name": "python3"
  },
  "language_info": {
   "codemirror_mode": {
    "name": "ipython",
    "version": 2
   },
   "file_extension": ".py",
   "mimetype": "text/x-python",
   "name": "python",
   "nbconvert_exporter": "python",
   "pygments_lexer": "ipython2",
   "version": "2.7.6"
  }
 },
 "nbformat": 4,
 "nbformat_minor": 5
}
