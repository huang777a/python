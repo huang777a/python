{
 "cells": [
  {
   "metadata": {},
   "cell_type": "markdown",
   "source": "# 函数",
   "id": "64b2d0324ddc4288"
  },
  {
   "metadata": {},
   "cell_type": "markdown",
   "source": "## 函数的定义及调用",
   "id": "cc088a6f55f3c415"
  },
  {
   "metadata": {
    "ExecuteTime": {
     "end_time": "2025-06-12T08:04:01.024534Z",
     "start_time": "2025-06-12T08:04:01.006920Z"
    }
   },
   "cell_type": "code",
   "source": [
    "#定义\n",
    "def sum(a):\n",
    "    s=0\n",
    "    for i in range(1,a+1):\n",
    "       s+=i\n",
    "    print(f'1到{a}的数字和为:{s}')\n",
    "sum(4)\n",
    "sum(5)\n",
    "sum(10)"
   ],
   "id": "28fc7a412e6b3166",
   "outputs": [
    {
     "name": "stdout",
     "output_type": "stream",
     "text": [
      "1到4的数字和为:10\n",
      "1到5的数字和为:15\n",
      "1到10的数字和为:55\n"
     ]
    }
   ],
   "execution_count": 6
  },
  {
   "metadata": {},
   "cell_type": "markdown",
   "source": "## 函数的参数传递",
   "id": "92d0fa0a7d158439"
  },
  {
   "metadata": {
    "ExecuteTime": {
     "end_time": "2025-06-12T08:37:43.831756Z",
     "start_time": "2025-06-12T08:37:43.826757Z"
    }
   },
   "cell_type": "code",
   "source": [
    "def bir(a,b):\n",
    "    print('祝'+a+'生日快乐')\n",
    "    print(str(b)+'岁生日快乐')\n",
    "bir('huang',21)#位置传参，参数位置和数量都必须相等\n",
    "bir(b=21,a='huang')#关键字传参,参数位置可以不一致"
   ],
   "id": "280c1bcf9ceb4f7a",
   "outputs": [
    {
     "name": "stdout",
     "output_type": "stream",
     "text": [
      "祝huang生日快乐\n",
      "21岁生日快乐\n",
      "祝huang生日快乐\n",
      "21岁生日快乐\n"
     ]
    }
   ],
   "execution_count": 14
  },
  {
   "metadata": {
    "ExecuteTime": {
     "end_time": "2025-06-12T08:41:01.134927Z",
     "start_time": "2025-06-12T08:41:01.127926Z"
    }
   },
   "cell_type": "code",
   "source": [
    "#默认值传递\n",
    "def bir(n='huang',a=21):\n",
    "    print('祝'+n+'生日快乐')\n",
    "    print(str(a)+'岁生日快乐')\n",
    "bir()\n",
    "bir('chen')\n",
    "bir(a=22)"
   ],
   "id": "f9994752ba748efd",
   "outputs": [
    {
     "name": "stdout",
     "output_type": "stream",
     "text": [
      "祝huang生日快乐\n",
      "21岁生日快乐\n",
      "祝chen生日快乐\n",
      "21岁生日快乐\n",
      "祝huang生日快乐\n",
      "22岁生日快乐\n"
     ]
    }
   ],
   "execution_count": 17
  },
  {
   "metadata": {
    "ExecuteTime": {
     "end_time": "2025-06-12T09:01:32.540351Z",
     "start_time": "2025-06-12T09:01:32.528345Z"
    }
   },
   "cell_type": "code",
   "source": [
    "#可变参数\n",
    "def a(*para):\n",
    "    for i in para:\n",
    "        print(i)\n",
    "a(10,20,30)\n",
    "a(10)\n",
    "a([10,20,30])\n",
    "a(*[10,20,30])#把列表拆分"
   ],
   "id": "41e4e2a4a276a4b9",
   "outputs": [
    {
     "name": "stdout",
     "output_type": "stream",
     "text": [
      "10\n",
      "20\n",
      "30\n",
      "10\n",
      "[10, 20, 30]\n",
      "10\n",
      "20\n",
      "30\n"
     ]
    }
   ],
   "execution_count": 19
  },
  {
   "metadata": {
    "ExecuteTime": {
     "end_time": "2025-06-12T09:18:51.491094Z",
     "start_time": "2025-06-12T09:18:51.474116Z"
    }
   },
   "cell_type": "code",
   "source": [
    "#个数可变的关键字参数\n",
    "def key(**kwpara):\n",
    "    for i,j in kwpara.items():\n",
    "        print(i,':',j)\n",
    "key(name='huang',age=18,height=125)"
   ],
   "id": "3555dd5f98e4b0e3",
   "outputs": [
    {
     "name": "stdout",
     "output_type": "stream",
     "text": [
      "name : huang\n",
      "age : 18\n",
      "height : 125\n"
     ]
    }
   ],
   "execution_count": 31
  },
  {
   "metadata": {
    "ExecuteTime": {
     "end_time": "2025-06-12T09:24:22.210283Z",
     "start_time": "2025-06-12T09:24:22.200282Z"
    }
   },
   "cell_type": "code",
   "source": [
    "def key(**kwpara):\n",
    "    for i,j in kwpara.items():\n",
    "        print(i,':',j)\n",
    "d={'name':'lihua','age':18,'height':125}\n",
    "key(**d)"
   ],
   "id": "95398fac01819d95",
   "outputs": [
    {
     "name": "stdout",
     "output_type": "stream",
     "text": [
      "name : lihua\n",
      "age : 18\n",
      "height : 125\n"
     ]
    }
   ],
   "execution_count": 34
  }
 ],
 "metadata": {
  "kernelspec": {
   "display_name": "Python 3",
   "language": "python",
   "name": "python3"
  },
  "language_info": {
   "codemirror_mode": {
    "name": "ipython",
    "version": 2
   },
   "file_extension": ".py",
   "mimetype": "text/x-python",
   "name": "python",
   "nbconvert_exporter": "python",
   "pygments_lexer": "ipython2",
   "version": "2.7.6"
  }
 },
 "nbformat": 4,
 "nbformat_minor": 5
}
