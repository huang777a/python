{
 "cells": [
  {
   "cell_type": "code",
   "id": "initial_id",
   "metadata": {
    "collapsed": true,
    "ExecuteTime": {
     "end_time": "2025-06-12T03:05:37.193867Z",
     "start_time": "2025-06-12T03:05:37.181868Z"
    }
   },
   "source": [
    "#列表储存着员工的两位数出生年份，现需2位年份前加19，若为00，则需加上200\n",
    "lst=[88,89,90,95,00]\n",
    "for i in range (len(lst)):\n",
    "    if lst[i]!=0:\n",
    "        lst[i]='19'+str(lst[i])\n",
    "    else:\n",
    "        lst[i]='200'+str(lst[i])\n",
    "print(lst)"
   ],
   "outputs": [
    {
     "name": "stdout",
     "output_type": "stream",
     "text": [
      "['1988', '1989', '1990', '1995', '2000']\n"
     ]
    }
   ],
   "execution_count": 2
  }
 ],
 "metadata": {
  "kernelspec": {
   "display_name": "Python 3",
   "language": "python",
   "name": "python3"
  },
  "language_info": {
   "codemirror_mode": {
    "name": "ipython",
    "version": 2
   },
   "file_extension": ".py",
   "mimetype": "text/x-python",
   "name": "python",
   "nbconvert_exporter": "python",
   "pygments_lexer": "ipython2",
   "version": "2.7.6"
  }
 },
 "nbformat": 4,
 "nbformat_minor": 5
}
