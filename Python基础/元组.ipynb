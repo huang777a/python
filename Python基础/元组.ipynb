{
 "cells": [
  {
   "metadata": {},
   "cell_type": "markdown",
   "source": "# 元组",
   "id": "20fd9a1ec5387aaa"
  },
  {
   "metadata": {},
   "cell_type": "markdown",
   "source": "tuple,不可变序列，使用()定义元组，用,隔开",
   "id": "826182249e7608de"
  },
  {
   "metadata": {
    "ExecuteTime": {
     "end_time": "2025-06-11T09:13:36.805717Z",
     "start_time": "2025-06-11T09:13:36.789044Z"
    }
   },
   "cell_type": "code",
   "source": [
    "a=(1,2,3,4,5)\n",
    "print(a)\n",
    "#可以索引和切片\n",
    "c=a[0]\n",
    "print(c)\n",
    "c=a[0:3]\n",
    "print(c)\n",
    "print(type(c))"
   ],
   "id": "55db1446bbe30743",
   "outputs": [
    {
     "name": "stdout",
     "output_type": "stream",
     "text": [
      "(1, 2, 3, 4, 5)\n",
      "1\n",
      "(1, 2, 3)\n",
      "<class 'tuple'>\n"
     ]
    }
   ],
   "execution_count": 5
  },
  {
   "metadata": {
    "ExecuteTime": {
     "end_time": "2025-06-11T09:16:00.924088Z",
     "start_time": "2025-06-11T09:16:00.902788Z"
    }
   },
   "cell_type": "code",
   "source": [
    "#可使用不可变的方法\n",
    "a=(1,2,3,4,5)\n",
    "c=a.count(2)\n",
    "print(c)\n",
    "c=a.index(4)\n",
    "print(c)\n",
    "print(max(a))\n",
    "print(min(a))\n",
    "print(len(a))"
   ],
   "id": "ad1403d8538f65b7",
   "outputs": [
    {
     "name": "stdout",
     "output_type": "stream",
     "text": [
      "1\n",
      "3\n",
      "5\n",
      "1\n",
      "5\n"
     ]
    }
   ],
   "execution_count": 7
  }
 ],
 "metadata": {
  "kernelspec": {
   "display_name": "Python 3",
   "language": "python",
   "name": "python3"
  },
  "language_info": {
   "codemirror_mode": {
    "name": "ipython",
    "version": 2
   },
   "file_extension": ".py",
   "mimetype": "text/x-python",
   "name": "python",
   "nbconvert_exporter": "python",
   "pygments_lexer": "ipython2",
   "version": "2.7.6"
  }
 },
 "nbformat": 4,
 "nbformat_minor": 5
}
