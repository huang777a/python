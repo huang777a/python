{
 "cells": [
  {
   "metadata": {},
   "cell_type": "markdown",
   "source": [
    "# 哈希表\n",
    "\n",
    "通过key在O(1)的时间复杂度内查找到这个key对应的value,key的类型可以是数字、字符串等多种类型。"
   ],
   "id": "1efccb33104555f6"
  },
  {
   "metadata": {},
   "cell_type": "code",
   "outputs": [],
   "execution_count": null,
   "source": [
    "# 哈希表伪码逻辑\n",
    "class MyHashMap:\n",
    "    def __init__(self):\n",
    "        self.table = [None] * 1000\n",
    "    # 增/改\n",
    "    def put(self, key, value):\n",
    "        index = self.hash(key)\n",
    "        self.table[index] = value\n",
    "        #查\n",
    "    def get(self, key):\n",
    "        index = self.hash(key)\n",
    "        return self.table[index]\n",
    "    # 删\n",
    "    def remove(self, key):\n",
    "        index = self.hash(key)\n",
    "        self.table[index] = None\n",
    "    # 哈希函数，把 key 转化成 table 中的合法索引\n",
    "    def hash(self, key):\n",
    "        # ...\n",
    "        pass"
   ],
   "id": "85a044f549eaf622"
  },
  {
   "metadata": {},
   "cell_type": "markdown",
   "source": "key是唯一的。value可以重复",
   "id": "6ee26942ed12fafe"
  },
  {
   "metadata": {},
   "cell_type": "markdown",
   "source": [
    "## 哈希函数\n",
    "\n",
    "作用：把任意长度的输入（key）转化成固定长度的输出（索引）。"
   ],
   "id": "b4c51f187a39777d"
  },
  {
   "metadata": {},
   "cell_type": "code",
   "outputs": [],
   "execution_count": null,
   "source": [
    "def hash(key, table_length):\n",
    "    \"\"\"\n",
    "    计算 key 的哈希值并映射到 table 的合法索引\n",
    "    Args:\n",
    "        key: 要计算哈希的键（必须实现 __hash__()）\n",
    "        table_length: 哈希表的长度\n",
    "    Returns:\n",
    "        映射后的索引（非负整数）\n",
    "    \"\"\"\n",
    "    h = hash(key)\n",
    "    h = h & 0x7fffffff  # 确保非负数（去掉符号位）\n",
    "    return h % table_length  # 映射到合法索引"
   ],
   "id": "274a085470d03836"
  }
 ],
 "metadata": {
  "kernelspec": {
   "display_name": "Python 3",
   "language": "python",
   "name": "python3"
  },
  "language_info": {
   "codemirror_mode": {
    "name": "ipython",
    "version": 2
   },
   "file_extension": ".py",
   "mimetype": "text/x-python",
   "name": "python",
   "nbconvert_exporter": "python",
   "pygments_lexer": "ipython2",
   "version": "2.7.6"
  }
 },
 "nbformat": 4,
 "nbformat_minor": 5
}
