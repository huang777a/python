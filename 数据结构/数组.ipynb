{
 "cells": [
  {
   "metadata": {},
   "cell_type": "markdown",
   "source": "# 静态数组",
   "id": "d10e1e36708a2ede"
  },
  {
   "metadata": {},
   "cell_type": "markdown",
   "source": [
    "## 静态数组的定义\n",
    "\n",
    "一块连续的内存空间，通过索引访问这块内存空间中的元素"
   ],
   "id": "a71abf62f9444582"
  },
  {
   "metadata": {
    "ExecuteTime": {
     "end_time": "2025-06-13T03:27:25.150270Z",
     "start_time": "2025-06-13T03:27:25.137495Z"
    }
   },
   "cell_type": "code",
   "source": [
    "#严格说，python没有静态数组定义方法，使用列表模拟静态数组\n",
    "arr=[0]*10#定义一个大小为10的静态数组\n",
    "#使用索引赋值\n",
    "arr[0]=1\n",
    "arr[1]=2\n",
    "arr[2]=3\n",
    "#使用索引取值\n",
    "a=arr[0]\n",
    "print(a)"
   ],
   "id": "3ae7a0ee356f79e2",
   "outputs": [
    {
     "name": "stdout",
     "output_type": "stream",
     "text": [
      "1\n"
     ]
    }
   ],
   "execution_count": 2
  },
  {
   "metadata": {},
   "cell_type": "markdown",
   "source": "## 静态数组的增删",
   "id": "572f8cc1e608f32"
  },
  {
   "metadata": {},
   "cell_type": "markdown",
   "source": "### 增",
   "id": "a3d9c53ea7e10171"
  },
  {
   "metadata": {
    "ExecuteTime": {
     "end_time": "2025-06-13T03:34:57.436250Z",
     "start_time": "2025-06-13T03:34:57.420494Z"
    }
   },
   "cell_type": "code",
   "source": [
    "#数组末尾追加元素（append）\n",
    "arr=[0]*10\n",
    "for i in range(4):\n",
    "    arr[i]=i\n",
    "arr[4]=4\n",
    "arr[5]=5\n",
    "print(arr)"
   ],
   "id": "4097b04c16982",
   "outputs": [
    {
     "name": "stdout",
     "output_type": "stream",
     "text": [
      "[0, 1, 2, 3, 4, 5, 0, 0, 0, 0]\n"
     ]
    }
   ],
   "execution_count": 3
  },
  {
   "metadata": {
    "ExecuteTime": {
     "end_time": "2025-06-13T03:43:29.914991Z",
     "start_time": "2025-06-13T03:43:29.899260Z"
    }
   },
   "cell_type": "code",
   "source": [
    "#在数组中间插入元素(insert)\n",
    "# 在索引2插入元素 666\n",
    "# 需要把索引2以及之后的元素都往后移动一位\n",
    "# 注意要倒着遍历数组中已有元素，避免覆盖\n",
    "arr=[0]*10\n",
    "for i in range(4):\n",
    "    arr[i]=i\n",
    "for i in range(4,2,-1):\n",
    "    arr[i]=arr[i-1]\n",
    "arr[2]=666\n",
    "print(arr)"
   ],
   "id": "4926790a22f90f80",
   "outputs": [
    {
     "name": "stdout",
     "output_type": "stream",
     "text": [
      "[0, 1, 666, 2, 3, 0, 0, 0, 0, 0]\n"
     ]
    }
   ],
   "execution_count": 4
  },
  {
   "metadata": {
    "ExecuteTime": {
     "end_time": "2025-06-13T03:51:41.846003Z",
     "start_time": "2025-06-13T03:51:41.825261Z"
    }
   },
   "cell_type": "code",
   "source": [
    "#当数组空间已满\n",
    "#要增加元素，只能重新申请一块更大的内存空间，把原来的元素复制过去，再插入新的元素\n",
    "arr = [i for i in range(10)]\n",
    "print(arr)\n",
    "#扩容数组\n",
    "newarr=[0] * 20\n",
    "# 把原来的 10 个元素复制过去\n",
    "for i in range(10):\n",
    "    newarr[i] = arr[i]\n",
    "newarr[10]=666\n",
    "print(newarr)"
   ],
   "id": "a840b3b72e8f0426",
   "outputs": [
    {
     "name": "stdout",
     "output_type": "stream",
     "text": [
      "[0, 1, 2, 3, 4, 5, 6, 7, 8, 9]\n",
      "[0, 1, 2, 3, 4, 5, 6, 7, 8, 9, 666, 0, 0, 0, 0, 0, 0, 0, 0, 0]\n"
     ]
    }
   ],
   "execution_count": 6
  },
  {
   "metadata": {},
   "cell_type": "markdown",
   "source": "### 删",
   "id": "5cfb7599eab2febe"
  },
  {
   "metadata": {
    "ExecuteTime": {
     "end_time": "2025-06-13T06:35:28.090670Z",
     "start_time": "2025-06-13T06:35:28.075028Z"
    }
   },
   "cell_type": "code",
   "source": [
    "#删除末尾元素(pop)\n",
    "arr=[0]*5\n",
    "for i in range(5):\n",
    "    arr[i]=i\n",
    "print(arr)\n",
    "arr[4]=-1\n",
    "print(arr)"
   ],
   "id": "cd517d5b882fbe03",
   "outputs": [
    {
     "name": "stdout",
     "output_type": "stream",
     "text": [
      "[0, 1, 2, 3, 4]\n",
      "[0, 1, 2, 3, -1]\n"
     ]
    }
   ],
   "execution_count": 1
  },
  {
   "metadata": {
    "ExecuteTime": {
     "end_time": "2025-06-13T06:39:25.473389Z",
     "start_time": "2025-06-13T06:39:25.457423Z"
    }
   },
   "cell_type": "code",
   "source": [
    "#删除中间元素\n",
    "#删除arr[1]\n",
    "#需要把arr[1]之后的元素都往前移动一位\n",
    "#注意要正向遍历数组中已有元素，避免覆盖\n",
    "arr=[0]*5\n",
    "for i in range(5):\n",
    "    arr[i]=i\n",
    "print(arr)\n",
    "for i in range(1,4,1):\n",
    "    arr[i]=arr[i+1]\n",
    "arr[4]=-1#置为-1，代表已删除\n",
    "print(arr)"
   ],
   "id": "d15c7fef2c818006",
   "outputs": [
    {
     "name": "stdout",
     "output_type": "stream",
     "text": [
      "[0, 1, 2, 3, 4]\n",
      "[0, 2, 3, 4, -1]\n"
     ]
    }
   ],
   "execution_count": 2
  },
  {
   "metadata": {},
   "cell_type": "markdown",
   "source": "# 动态数组",
   "id": "b46709a0b40965da"
  },
  {
   "metadata": {
    "ExecuteTime": {
     "end_time": "2025-06-13T07:36:13.314423Z",
     "start_time": "2025-06-13T07:36:13.305901Z"
    }
   },
   "cell_type": "code",
   "source": [
    "# 创建动态数组\n",
    "arr = []\n",
    "for i in range(10):\n",
    "    arr.append(i)#在末尾追加元素\n",
    "print(arr)\n",
    "# 在索引 2 的位置插入元素 666\n",
    "arr.insert(2, 666)\n",
    "print(arr)\n",
    "#在头部插入元素\n",
    "arr.insert(0, 45)\n",
    "print(arr)\n",
    "#删除末尾元素\n",
    "arr.pop()\n",
    "print(arr)\n",
    "# 删除索引 2 的元素\n",
    "arr.pop(2)\n",
    "print(arr)\n",
    "#根据索引查询元素\n",
    "a = arr[0]\n",
    "print(a)\n",
    "#根据索引修改元素\n",
    "arr[0] = 100\n",
    "print(arr)\n",
    "#根据元素值查找索引\n",
    "index = arr.index(666)\n",
    "print(index)"
   ],
   "id": "dd34d93577e9bc8b",
   "outputs": [
    {
     "name": "stdout",
     "output_type": "stream",
     "text": [
      "[0, 1, 2, 3, 4, 5, 6, 7, 8, 9]\n",
      "[0, 1, 666, 2, 3, 4, 5, 6, 7, 8, 9]\n",
      "[45, 0, 1, 666, 2, 3, 4, 5, 6, 7, 8, 9]\n",
      "[45, 0, 1, 666, 2, 3, 4, 5, 6, 7, 8]\n",
      "[45, 0, 666, 2, 3, 4, 5, 6, 7, 8]\n",
      "45\n",
      "[100, 0, 666, 2, 3, 4, 5, 6, 7, 8]\n",
      "2\n"
     ]
    }
   ],
   "execution_count": 8
  }
 ],
 "metadata": {
  "kernelspec": {
   "display_name": "Python 3",
   "language": "python",
   "name": "python3"
  },
  "language_info": {
   "codemirror_mode": {
    "name": "ipython",
    "version": 2
   },
   "file_extension": ".py",
   "mimetype": "text/x-python",
   "name": "python",
   "nbconvert_exporter": "python",
   "pygments_lexer": "ipython2",
   "version": "2.7.6"
  }
 },
 "nbformat": 4,
 "nbformat_minor": 5
}
