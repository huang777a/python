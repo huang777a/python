{
 "cells": [
  {
   "metadata": {},
   "cell_type": "markdown",
   "source": "# 单链表",
   "id": "b08830875e0fc888"
  },
  {
   "metadata": {
    "ExecuteTime": {
     "end_time": "2025-06-13T08:02:41.297176Z",
     "start_time": "2025-06-13T08:02:41.283018Z"
    }
   },
   "cell_type": "code",
   "source": [
    "#单链表节点定义\n",
    "class ListNode:\n",
    "    def __init__(self, x):\n",
    "        self.val = x\n",
    "        self.next = None\n",
    "# 输入一个数组，转换为一条单链表\n",
    "def createLinkedList(arr: 'List[int]') -> 'ListNode':\n",
    "    if arr is None or len(arr) == 0:\n",
    "        return None\n",
    "    head = ListNode(arr[0])\n",
    "    cur = head\n",
    "    for i in range(1, len(arr)):\n",
    "        cur.next = ListNode(arr[i])\n",
    "        cur = cur.next\n",
    "    return head"
   ],
   "id": "d8ddfb75f6fa190d",
   "outputs": [],
   "execution_count": 17
  },
  {
   "metadata": {},
   "cell_type": "markdown",
   "source": "## 查/改",
   "id": "253300da33a79e3d"
  },
  {
   "metadata": {
    "ExecuteTime": {
     "end_time": "2025-06-13T08:02:57.994296Z",
     "start_time": "2025-06-13T08:02:57.978374Z"
    }
   },
   "cell_type": "code",
   "source": [
    "# 创建一条单链表\n",
    "head = createLinkedList([1, 2, 3, 4, 5])\n",
    "# 遍历单链表\n",
    "p = head\n",
    "while p is not None:\n",
    "    print(p.val)\n",
    "    p = p.next"
   ],
   "id": "93894c1106ff6d71",
   "outputs": [
    {
     "name": "stdout",
     "output_type": "stream",
     "text": [
      "1\n",
      "2\n",
      "3\n",
      "4\n",
      "5\n"
     ]
    }
   ],
   "execution_count": 19
  },
  {
   "metadata": {},
   "cell_type": "markdown",
   "source": "## 增",
   "id": "aaf3595b852649de"
  },
  {
   "metadata": {
    "ExecuteTime": {
     "end_time": "2025-06-13T08:14:24.961483Z",
     "start_time": "2025-06-13T08:14:24.945682Z"
    }
   },
   "cell_type": "code",
   "source": [
    "#头部插入新元素\n",
    "head=createLinkedList([1, 2, 3, 4, 5])\n",
    "#插入新节点0\n",
    "newNode=ListNode(0)\n",
    "newNode.next=head\n",
    "head=newNode\n",
    "while head is not None:\n",
    "    print(head.val)\n",
    "    head=head.next"
   ],
   "id": "15392fb5c74c657d",
   "outputs": [
    {
     "name": "stdout",
     "output_type": "stream",
     "text": [
      "0\n",
      "1\n",
      "2\n",
      "3\n",
      "4\n",
      "5\n"
     ]
    }
   ],
   "execution_count": 23
  },
  {
   "metadata": {
    "ExecuteTime": {
     "end_time": "2025-06-13T08:40:52.604115Z",
     "start_time": "2025-06-13T08:40:52.596581Z"
    }
   },
   "cell_type": "code",
   "source": [
    "#尾部插入新元素\n",
    "head=createLinkedList([1, 2, 3, 4, 5])\n",
    "# 尾部插入一个新节点 6\n",
    "p = head\n",
    "# 先走到链表的最后一个节点\n",
    "while p.next is not None:\n",
    "    p=p.next\n",
    "#在p后面插入新节点\n",
    "p.next=ListNode(6)\n",
    "cur=head\n",
    "while cur is not None:\n",
    "    print(cur.val)\n",
    "    cur=cur.next"
   ],
   "id": "1cb0bc91365200e8",
   "outputs": [
    {
     "name": "stdout",
     "output_type": "stream",
     "text": [
      "1\n",
      "2\n",
      "3\n",
      "4\n",
      "5\n",
      "6\n"
     ]
    }
   ],
   "execution_count": 35
  },
  {
   "metadata": {},
   "cell_type": "markdown",
   "source": "",
   "id": "956090a02cc42393"
  },
  {
   "metadata": {},
   "cell_type": "markdown",
   "source": "## 删",
   "id": "281b703a61cfb667"
  },
  {
   "metadata": {},
   "cell_type": "markdown",
   "source": "",
   "id": "8dfcd17bbc105332"
  },
  {
   "metadata": {
    "ExecuteTime": {
     "end_time": "2025-06-13T08:49:27.749963Z",
     "start_time": "2025-06-13T08:49:27.734109Z"
    }
   },
   "cell_type": "code",
   "source": [
    "head=createLinkedList([1, 2, 3, 4, 5])\n",
    "#删除第四个节点，要操作前驱节点\n",
    "p = head\n",
    "for i in range(2):\n",
    "    p=p.next\n",
    "p.next=p.next.next\n",
    "cur=head\n",
    "while cur is not None:\n",
    "    print(cur.val)\n",
    "    cur=cur.next"
   ],
   "id": "2c706e61a8a2d63",
   "outputs": [
    {
     "name": "stdout",
     "output_type": "stream",
     "text": [
      "1\n",
      "2\n",
      "3\n",
      "5\n"
     ]
    }
   ],
   "execution_count": 39
  },
  {
   "metadata": {
    "ExecuteTime": {
     "end_time": "2025-06-13T09:03:01.176025Z",
     "start_time": "2025-06-13T09:03:01.157703Z"
    }
   },
   "cell_type": "code",
   "source": [
    "#删除尾部元素\n",
    "head = createLinkedList([1, 2, 3, 4, 5])\n",
    "p = head\n",
    "# 找到倒数第二个节点\n",
    "while p.next.next is not None:\n",
    "    p = p.next\n",
    "# 此时 p 指向倒数第二个节点\n",
    "p.next = None\n",
    "cur=head\n",
    "while cur is not None:\n",
    "    print(cur.val)\n",
    "    cur=cur.next"
   ],
   "id": "b0a20d76f14efb13",
   "outputs": [
    {
     "name": "stdout",
     "output_type": "stream",
     "text": [
      "1\n",
      "2\n",
      "3\n",
      "4\n"
     ]
    }
   ],
   "execution_count": 40
  }
 ],
 "metadata": {
  "kernelspec": {
   "display_name": "Python 3",
   "language": "python",
   "name": "python3"
  },
  "language_info": {
   "codemirror_mode": {
    "name": "ipython",
    "version": 2
   },
   "file_extension": ".py",
   "mimetype": "text/x-python",
   "name": "python",
   "nbconvert_exporter": "python",
   "pygments_lexer": "ipython2",
   "version": "2.7.6"
  }
 },
 "nbformat": 4,
 "nbformat_minor": 5
}
