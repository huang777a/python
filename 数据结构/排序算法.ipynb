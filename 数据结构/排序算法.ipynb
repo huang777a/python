{
 "cells": [
  {
   "metadata": {},
   "cell_type": "markdown",
   "source": [
    "# 冒泡排序\n",
    "\n",
    "算法思路：对无序表进行多趟比较\n",
    "\n",
    "每趟包括多次两两相邻比较，，并将逆序的数据项互换位置，最终把本趟的额最大项就位\n",
    "\n",
    "总共经过n-1趟比较交换，实现整表排序"
   ],
   "id": "2ec0107433944982"
  },
  {
   "metadata": {
    "ExecuteTime": {
     "end_time": "2025-06-19T07:03:31.989511Z",
     "start_time": "2025-06-19T07:03:31.971899Z"
    }
   },
   "cell_type": "code",
   "source": [
    "def bubblesort(arr):\n",
    "    for i in range(len(arr)-1,0,-1):\n",
    "        for j in range(i):\n",
    "            if arr[j] > arr[j+1]:\n",
    "                arr[j], arr[j+1] = arr[j+1], arr[j]\n",
    "arr = [11,54,62,3,29,46,52,6]\n",
    "bubblesort(arr)\n",
    "print(arr)"
   ],
   "id": "504fa313cd9dc38",
   "outputs": [
    {
     "name": "stdout",
     "output_type": "stream",
     "text": [
      "[3, 6, 11, 29, 46, 52, 54, 62]\n"
     ]
    }
   ],
   "execution_count": 8
  },
  {
   "metadata": {},
   "cell_type": "markdown",
   "source": [
    "# 选择排序\n",
    "\n",
    "每趟仅进行1次交换，记录最大项的所在位置，最后再跟本趟进行最后一项交换"
   ],
   "id": "51d9cfaaff3a48cf"
  },
  {
   "metadata": {
    "ExecuteTime": {
     "end_time": "2025-06-19T07:02:33.967207Z",
     "start_time": "2025-06-19T07:02:33.953207Z"
    }
   },
   "cell_type": "code",
   "source": [
    "def selsort(arr):\n",
    "    for i in range(len(arr)-1,0,-1):#从后往前遍历，每遍历一次，未排序的部分会减1\n",
    "        max=0\n",
    "        for j in range(1,i+1):\n",
    "            if arr[j]>arr[max]:\n",
    "                max = j\n",
    "        arr[i],arr[max] = arr[max],arr[i]\n",
    "arr = [11,54,62,3,29,46,52,6]\n",
    "selsort(arr)\n",
    "print(arr)"
   ],
   "id": "b58f90928bf255a5",
   "outputs": [
    {
     "name": "stdout",
     "output_type": "stream",
     "text": [
      "[3, 6, 11, 29, 46, 52, 54, 62]\n"
     ]
    }
   ],
   "execution_count": 5
  },
  {
   "metadata": {},
   "cell_type": "markdown",
   "source": [
    "# 插入排序\n",
    "\n",
    "维持一个已排好序的子列表，其位置始终在列表的前部，逐步扩大这个子列表直到全表\n",
    "\n",
    "要进行n-1趟的比对"
   ],
   "id": "8ce237c1a973f75c"
  },
  {
   "metadata": {
    "ExecuteTime": {
     "end_time": "2025-06-19T07:02:52.022370Z",
     "start_time": "2025-06-19T07:02:52.017172Z"
    }
   },
   "cell_type": "code",
   "source": [
    "def insertsort(arr):\n",
    "    for i in range(1,len(arr)):#从第二个元素开始遍历(索引1到len(arr)-1)\n",
    "        curr = arr[i]\n",
    "        pos = i\n",
    "        while pos > 0 and arr[pos-1] > curr:\n",
    "            arr[pos] = arr[pos-1] #将前一个元素后移一位\n",
    "            pos -= 1 #插入位置向前移动一位\n",
    "        arr[pos] = curr\n",
    "arr = [11,54,62,3,29,46,52,6]\n",
    "insertsort(arr)\n",
    "print(arr)"
   ],
   "id": "44c8ea248093ec5e",
   "outputs": [
    {
     "name": "stdout",
     "output_type": "stream",
     "text": [
      "[3, 6, 11, 29, 46, 52, 54, 62]\n"
     ]
    }
   ],
   "execution_count": 7
  },
  {
   "metadata": {},
   "cell_type": "markdown",
   "source": [
    "# 归并排序\n",
    "\n",
    "本质是递归算法，思路是将数据表持续分裂为两半，对两半分别进行归并排序，直到数据表仅有一个数据项\n",
    "\n",
    "使用了额外的存储空间"
   ],
   "id": "b1f95cc828c7fa1c"
  },
  {
   "metadata": {
    "ExecuteTime": {
     "end_time": "2025-06-19T08:18:47.089934Z",
     "start_time": "2025-06-19T08:18:47.070424Z"
    }
   },
   "cell_type": "code",
   "source": [
    "def mergesort(arr):\n",
    "    if len(arr) == 1: #当数组长度为1时已经有序，递归中止\n",
    "        return arr\n",
    "    #将数组分为左右两半\n",
    "    mid = len(arr)//2\n",
    "    left=arr[:mid]\n",
    "    right=arr[mid:]\n",
    "    #递归排序左右两半\n",
    "    left=mergesort(left)\n",
    "    right=mergesort(right)\n",
    "    #合并两个已排序的数组\n",
    "    return merge(left, right)\n",
    "def merge(left, right):\n",
    "    result = []\n",
    "    i, j = 0, 0\n",
    "    #比较两个子数组的元素，按顺序合并\n",
    "    while i < len(left) and j < len(right):\n",
    "        if left[i] < right[j]:\n",
    "            result.append(left[i])\n",
    "            i += 1\n",
    "        else:\n",
    "            result.append(right[j])\n",
    "            j += 1\n",
    "    result.extend(left[i:])\n",
    "    result.extend(right[j:])\n",
    "    return result\n",
    "arr=[2,15,5,7,75,22,10,34,4]\n",
    "print('排序前：',arr)\n",
    "sorted_arr=mergesort(arr)\n",
    "print('排序后：',sorted_arr)"
   ],
   "id": "c1bb6eb8c233386a",
   "outputs": [
    {
     "name": "stdout",
     "output_type": "stream",
     "text": [
      "排序前： [2, 15, 5, 7, 75, 22, 10, 34, 4]\n",
      "排序后： [2, 4, 5, 7, 10, 15, 22, 34, 75]\n"
     ]
    }
   ],
   "execution_count": 15
  },
  {
   "metadata": {},
   "cell_type": "markdown",
   "source": [
    "# 快速排序\n",
    "\n",
    "依据一个“中值”数据项来把数据表分成两半：小于中值的一半和大于中值的一半，然后每部分分别进行快速排序（递归）"
   ],
   "id": "f2d3036be4b69b3a"
  },
  {
   "metadata": {},
   "cell_type": "markdown",
   "source": "假设第一个数为“中值”，设置左右标，左标向右移动碰到比中值大的就停止，右标向左移动碰到比中值小的就停止，然后把左右标所指的数据项交换；继续移动，直到左标移到右标的右侧，停止移动，这时右标所指位置就是“中值”应处的位置，将中值和这个位置交换，分裂完成。左半部比中值小，右半部比中值大",
   "id": "a941f051ad755525"
  },
  {
   "metadata": {
    "ExecuteTime": {
     "end_time": "2025-06-19T11:11:38.014484Z",
     "start_time": "2025-06-19T11:11:37.994479Z"
    }
   },
   "cell_type": "code",
   "source": [
    "def quicksort(arr):# 主函数\n",
    "    quicksort_help(arr,0,len(arr)-1)\n",
    "def quicksort_help(arr,first,last):#递归辅助函数\n",
    "    if first < last:\n",
    "        split_point=part(arr,first,last)#找到分割点\n",
    "        quicksort_help(arr,first,split_point-1)\n",
    "        quicksort_help(arr,split_point+1,last)\n",
    "def part(arr,first,last):\n",
    "    pivot=arr[first]\n",
    "    left=first+1\n",
    "    right=last\n",
    "    done=False\n",
    "    while not done:\n",
    "        while left <= right and arr[left] <= pivot:\n",
    "            left += 1\n",
    "        while right >= left and arr[right] >= pivot:\n",
    "            right -= 1\n",
    "        if right < left:\n",
    "            done=True\n",
    "        else:\n",
    "            arr[left],arr[right] = arr[right],arr[left]\n",
    "    arr[first],arr[right] = arr[right],arr[first]\n",
    "    return right\n",
    "arr=[2,15,5,7,75,22,10,34,4]\n",
    "print('排序前：',arr)\n",
    "quicksort(arr)\n",
    "print('排序后：',arr)"
   ],
   "id": "66fa439e449069b3",
   "outputs": [
    {
     "name": "stdout",
     "output_type": "stream",
     "text": [
      "排序前： [2, 15, 5, 7, 75, 22, 10, 34, 4]\n",
      "排序后： [2, 4, 5, 7, 10, 15, 22, 34, 75]\n"
     ]
    }
   ],
   "execution_count": 18
  },
  {
   "metadata": {},
   "cell_type": "markdown",
   "source": [
    "# 随机快速排序\n",
    "\n",
    "通过随机选择基准值（pivot）避免最坏情况"
   ],
   "id": "d13e43f874b9e2cf"
  },
  {
   "metadata": {
    "ExecuteTime": {
     "end_time": "2025-06-19T11:50:46.657448Z",
     "start_time": "2025-06-19T11:50:46.649450Z"
    }
   },
   "cell_type": "code",
   "source": [
    "import random\n",
    "def randomsort(arr, low, high):\n",
    "    if low < high:\n",
    "        pivot_idx = random.randint(low, high)  # 随机选择pivot\n",
    "        arr[pivot_idx], arr[high] = arr[high], arr[pivot_idx]  # 交换到末尾\n",
    "        split_point = part(arr, low, high)\n",
    "        randomsort(arr, low, split_point - 1)\n",
    "        randomsort(arr, split_point + 1, high)\n",
    "def part(arr, low, high):\n",
    "    pivot = arr[high]\n",
    "    i = low\n",
    "    for j in range(low, high):\n",
    "        if arr[j] < pivot:\n",
    "            arr[i], arr[j] = arr[j], arr[i]\n",
    "            i += 1\n",
    "    arr[i], arr[high] = arr[high], arr[i]\n",
    "    return i\n",
    "arr=[2,15,5,7,75,22,10,34,4]\n",
    "print('排序前：',arr)\n",
    "randomsort(arr, 0, len(arr)-1)\n",
    "print('排序后：',arr)"
   ],
   "id": "f87f41ce28a87e1c",
   "outputs": [
    {
     "name": "stdout",
     "output_type": "stream",
     "text": [
      "排序前： [2, 15, 5, 7, 75, 22, 10, 34, 4]\n",
      "排序后： [2, 4, 5, 7, 10, 15, 22, 34, 75]\n"
     ]
    }
   ],
   "execution_count": 21
  }
 ],
 "metadata": {
  "kernelspec": {
   "display_name": "Python 3",
   "language": "python",
   "name": "python3"
  },
  "language_info": {
   "codemirror_mode": {
    "name": "ipython",
    "version": 2
   },
   "file_extension": ".py",
   "mimetype": "text/x-python",
   "name": "python",
   "nbconvert_exporter": "python",
   "pygments_lexer": "ipython2",
   "version": "2.7.6"
  }
 },
 "nbformat": 4,
 "nbformat_minor": 5
}
