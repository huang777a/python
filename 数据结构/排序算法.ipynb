{
 "cells": [
  {
   "metadata": {},
   "cell_type": "markdown",
   "source": [
    "# 冒泡排序\n",
    "\n",
    "算法思路：对无序表进行多趟比较\n",
    "\n",
    "每趟包括多次两两相邻比较，，并将逆序的数据项互换位置，最终把本趟的额最大项就位\n",
    "\n",
    "总共经过n-1趟比较交换，实现整表排序\n",
    "\n",
    "平均时间复杂度：O(n^2) 最坏时间复杂度：O(n^2) 最好时间复杂度：O(n)\n",
    "\n",
    "空间复杂度：O(1)"
   ],
   "id": "2ec0107433944982"
  },
  {
   "metadata": {
    "ExecuteTime": {
     "end_time": "2025-06-19T07:03:31.989511Z",
     "start_time": "2025-06-19T07:03:31.971899Z"
    }
   },
   "cell_type": "code",
   "source": [
    "def bubblesort(arr):\n",
    "    for i in range(len(arr)-1,0,-1):\n",
    "        for j in range(i):\n",
    "            if arr[j] > arr[j+1]:\n",
    "                arr[j], arr[j+1] = arr[j+1], arr[j]\n",
    "arr = [11,54,62,3,29,46,52,6]\n",
    "bubblesort(arr)\n",
    "print(arr)"
   ],
   "id": "504fa313cd9dc38",
   "outputs": [
    {
     "name": "stdout",
     "output_type": "stream",
     "text": [
      "[3, 6, 11, 29, 46, 52, 54, 62]\n"
     ]
    }
   ],
   "execution_count": 8
  },
  {
   "metadata": {},
   "cell_type": "markdown",
   "source": [
    "# 选择排序\n",
    "## 直接选择排序\n",
    "\n",
    "每趟仅进行1次交换，记录最大项的所在位置，最后再跟本趟进行最后一项交换\n",
    "\n",
    "平均时间复杂度：O(n^2)   最坏时间复杂度：O(n^2)   最好时间复杂度：O(n^2)\n",
    "\n",
    "空间复杂度：O(1)"
   ],
   "id": "51d9cfaaff3a48cf"
  },
  {
   "metadata": {
    "ExecuteTime": {
     "end_time": "2025-06-20T07:21:10.510523Z",
     "start_time": "2025-06-20T07:21:10.494490Z"
    }
   },
   "cell_type": "code",
   "source": [
    "def selsort(arr):\n",
    "    for i in range(len(arr)-1,0,-1):#从后往前遍历，每遍历一次，未排序的部分会减1\n",
    "        max=0\n",
    "        for j in range(1,i+1):\n",
    "            if arr[j]>arr[max]:\n",
    "                max = j\n",
    "        arr[i],arr[max] = arr[max],arr[i]\n",
    "arr = [11,54,62,3,29,46,52,6]\n",
    "selsort(arr)\n",
    "print(arr)"
   ],
   "id": "d52edf6d76b7b74b",
   "outputs": [
    {
     "name": "stdout",
     "output_type": "stream",
     "text": [
      "[3, 6, 11, 29, 46, 52, 54, 62]\n"
     ]
    }
   ],
   "execution_count": 16
  },
  {
   "metadata": {},
   "cell_type": "markdown",
   "source": [
    "## 堆排序\n",
    "\n",
    "将数组视为完全二叉树，构建最大堆（父节点 ≥ 子节点）或最小堆\n",
    "\n",
    "时间复杂度：建堆：O(n)  每次调整堆：O(log n)  总复杂度：O(n log n)"
   ],
   "id": "dbe67af5911a4401"
  },
  {
   "metadata": {
    "ExecuteTime": {
     "end_time": "2025-06-20T07:41:42.202026Z",
     "start_time": "2025-06-20T07:41:42.170138Z"
    }
   },
   "cell_type": "code",
   "source": [
    "def heap_sort(arr):\n",
    "    n = len(arr)\n",
    "    # 构建最大堆（从最后一个非叶子节点开始）\n",
    "    for i in range(n // 2 - 1, -1, -1):\n",
    "        heap(arr, n, i)\n",
    "    # 逐个提取堆顶元素\n",
    "    for i in range(n - 1, 0, -1):\n",
    "        arr[0], arr[i] = arr[i], arr[0]  # 交换堆顶与末尾\n",
    "        heap(arr, i, 0)  # 调整剩余元素\n",
    "def heap(arr, n, i):\n",
    "    largest = i  # 初始化最大值为当前节点\n",
    "    left = 2 * i + 1\n",
    "    right = 2 * i + 2\n",
    "    # 检查左子节点\n",
    "    if left < n and arr[left] > arr[largest]:\n",
    "        largest = left\n",
    "    # 检查右子节点\n",
    "    if right < n and arr[right] > arr[largest]:\n",
    "        largest = right\n",
    "    # 若最大值不是当前节点，交换并递归调整\n",
    "    if largest != i:\n",
    "        arr[i], arr[largest] = arr[largest], arr[i]\n",
    "        heap(arr, n, largest)\n",
    "arr=[11,54,62,3,29,46,52,6]\n",
    "heap_sort(arr)\n",
    "print(\"堆排序结果:\", arr)"
   ],
   "id": "b58f90928bf255a5",
   "outputs": [
    {
     "name": "stdout",
     "output_type": "stream",
     "text": [
      "堆排序结果: [3, 6, 11, 29, 46, 52, 54, 62]\n"
     ]
    }
   ],
   "execution_count": 17
  },
  {
   "metadata": {},
   "cell_type": "markdown",
   "source": [
    "# 插入排序\n",
    "\n",
    "## 直接插入排序\n",
    "\n",
    "维持一个已排好序的子列表，其位置始终在列表的前部，逐步扩大这个子列表直到全表\n",
    "\n",
    "要进行n-1趟的比对\n",
    "\n",
    "平均时间复杂度：O(n^2)   最坏时间复杂度：O(n^2)   最好时间复杂度：O(n)\n",
    "\n",
    "空间复杂度：O(1)"
   ],
   "id": "8ce237c1a973f75c"
  },
  {
   "metadata": {
    "ExecuteTime": {
     "end_time": "2025-06-20T07:07:20.476752Z",
     "start_time": "2025-06-20T07:07:20.458197Z"
    }
   },
   "cell_type": "code",
   "source": [
    "def insertsort(arr):\n",
    "    for i in range(1,len(arr)):#从第二个元素开始遍历(索引1到len(arr)-1)\n",
    "        curr = arr[i]\n",
    "        pos = i\n",
    "        while pos > 0 and arr[pos-1] > curr:\n",
    "            arr[pos] = arr[pos-1] #将前一个元素后移一位\n",
    "            pos -= 1\n",
    "        arr[pos] = curr\n",
    "arr = [11,54,62,3,29,46,52,6]\n",
    "insertsort(arr)\n",
    "print(arr)"
   ],
   "id": "44c8ea248093ec5e",
   "outputs": [
    {
     "name": "stdout",
     "output_type": "stream",
     "text": [
      "[3, 6, 11, 29, 46, 52, 54, 62]\n"
     ]
    }
   ],
   "execution_count": 13
  },
  {
   "metadata": {},
   "cell_type": "markdown",
   "source": [
    "## 希尔排序\n",
    "\n",
    "通过分组插入排序，逐步缩小间隔，最终对整个数组插入排序\n",
    "\n",
    "平均时间复杂度：O(n^1.3)   最坏时间复杂度：O(n^2)   最好时间复杂度：O(nlogn)\n",
    "\n",
    "空间复杂度：O(1)"
   ],
   "id": "9e93dfb966e87de0"
  },
  {
   "metadata": {
    "ExecuteTime": {
     "end_time": "2025-06-20T07:19:35.821566Z",
     "start_time": "2025-06-20T07:19:35.806566Z"
    }
   },
   "cell_type": "code",
   "source": [
    "def shell_sort(arr):\n",
    "    n = len(arr)\n",
    "    gap = n // 2  # 初始间隔\n",
    "    while gap > 0:\n",
    "        # 对每个子序列进行插入排序\n",
    "        for i in range(gap, n):\n",
    "            temp = arr[i]\n",
    "            j = i\n",
    "            while j >= gap and arr[j - gap] > temp:\n",
    "                arr[j] = arr[j - gap]\n",
    "                j -= gap\n",
    "            arr[j] = temp\n",
    "        gap //= 2  # 缩小间隔\n",
    "arr =[11,54,62,3,29,46,52,6]\n",
    "shell_sort(arr)\n",
    "print(\"希尔排序结果:\", arr)"
   ],
   "id": "e3eb322d4afd3006",
   "outputs": [
    {
     "name": "stdout",
     "output_type": "stream",
     "text": [
      "希尔排序结果: [3, 6, 11, 29, 46, 52, 54, 62]\n"
     ]
    }
   ],
   "execution_count": 15
  },
  {
   "metadata": {},
   "cell_type": "markdown",
   "source": [
    "# 归并排序\n",
    "\n",
    "本质是递归算法，思路是将数据表持续分裂为两半，对两半分别进行归并排序，直到数据表仅有一个数据项\n",
    "\n",
    "使用了额外的存储空间\n",
    "\n",
    "平均时间复杂度：O(nlogn)   最坏时间复杂度：O(nlogn)   最好时间复杂度：O(nlogn)\n",
    "\n",
    "空间复杂度：O(n)"
   ],
   "id": "28d78e2b4411651f"
  },
  {
   "metadata": {
    "ExecuteTime": {
     "end_time": "2025-06-19T08:18:47.089934Z",
     "start_time": "2025-06-19T08:18:47.070424Z"
    }
   },
   "cell_type": "code",
   "source": [
    "def mergesort(arr):\n",
    "    if len(arr) == 1: #当数组长度为1时已经有序，递归中止\n",
    "        return arr\n",
    "    #将数组分为左右两半\n",
    "    mid = len(arr)//2\n",
    "    left=arr[:mid]\n",
    "    right=arr[mid:]\n",
    "    #递归排序左右两半\n",
    "    left=mergesort(left)\n",
    "    right=mergesort(right)\n",
    "    #合并两个已排序的数组\n",
    "    return merge(left, right)\n",
    "def merge(left, right):\n",
    "    result = []\n",
    "    i, j = 0, 0\n",
    "    #比较两个子数组的元素，按顺序合并\n",
    "    while i < len(left) and j < len(right):\n",
    "        if left[i] < right[j]:\n",
    "            result.append(left[i])\n",
    "            i += 1\n",
    "        else:\n",
    "            result.append(right[j])\n",
    "            j += 1\n",
    "    result.extend(left[i:])\n",
    "    result.extend(right[j:])\n",
    "    return result\n",
    "arr=[2,15,5,7,75,22,10,34,4]\n",
    "print('排序前：',arr)\n",
    "sorted_arr=mergesort(arr)\n",
    "print('排序后：',sorted_arr)"
   ],
   "id": "c1bb6eb8c233386a",
   "outputs": [
    {
     "name": "stdout",
     "output_type": "stream",
     "text": [
      "排序前： [2, 15, 5, 7, 75, 22, 10, 34, 4]\n",
      "排序后： [2, 4, 5, 7, 10, 15, 22, 34, 75]\n"
     ]
    }
   ],
   "execution_count": 15
  },
  {
   "metadata": {},
   "cell_type": "markdown",
   "source": [
    "# 快速排序\n",
    "\n",
    "依据一个“中值”数据项来把数据表分成两半：小于中值的一半和大于中值的一半，然后每部分分别进行快速排序（递归）"
   ],
   "id": "f2d3036be4b69b3a"
  },
  {
   "metadata": {},
   "cell_type": "markdown",
   "source": [
    "假设第一个数为“中值”，设置左右标，左标向右移动碰到比中值大的就停止，右标向左移动碰到比中值小的就停止，然后把左右标所指的数据项交换；继续移动，直到左标移到右标的右侧，停止移动，这时右标所指位置就是“中值”应处的位置，将中值和这个位置交换，分裂完成。左半部比中值小，右半部比中值大\n",
    "\n",
    "平均时间复杂度：O(nlogn)   最坏时间复杂度：O(n^2)   最好时间复杂度：O(nlogn)\n",
    "\n",
    "空间复杂度：O(logn)~O(n)"
   ],
   "id": "a941f051ad755525"
  },
  {
   "metadata": {
    "ExecuteTime": {
     "end_time": "2025-06-19T11:11:38.014484Z",
     "start_time": "2025-06-19T11:11:37.994479Z"
    }
   },
   "cell_type": "code",
   "source": [
    "def quicksort(arr):# 主函数\n",
    "    quicksort_help(arr,0,len(arr)-1)\n",
    "def quicksort_help(arr,first,last):#递归辅助函数\n",
    "    if first < last:\n",
    "        split_point=part(arr,first,last)#找到分割点\n",
    "        quicksort_help(arr,first,split_point-1)\n",
    "        quicksort_help(arr,split_point+1,last)\n",
    "def part(arr,first,last):\n",
    "    pivot=arr[first]\n",
    "    left=first+1\n",
    "    right=last\n",
    "    done=False\n",
    "    while not done:\n",
    "        while left <= right and arr[left] <= pivot:\n",
    "            left += 1\n",
    "        while right >= left and arr[right] >= pivot:\n",
    "            right -= 1\n",
    "        if right < left:\n",
    "            done=True\n",
    "        else:\n",
    "            arr[left],arr[right] = arr[right],arr[left]\n",
    "    arr[first],arr[right] = arr[right],arr[first]\n",
    "    return right\n",
    "arr=[2,15,5,7,75,22,10,34,4]\n",
    "print('排序前：',arr)\n",
    "quicksort(arr)\n",
    "print('排序后：',arr)"
   ],
   "id": "66fa439e449069b3",
   "outputs": [
    {
     "name": "stdout",
     "output_type": "stream",
     "text": [
      "排序前： [2, 15, 5, 7, 75, 22, 10, 34, 4]\n",
      "排序后： [2, 4, 5, 7, 10, 15, 22, 34, 75]\n"
     ]
    }
   ],
   "execution_count": 18
  },
  {
   "metadata": {},
   "cell_type": "markdown",
   "source": [
    "# 随机快速排序\n",
    "\n",
    "通过随机选择基准值（pivot）避免最坏情况\n",
    "\n",
    "平均时间复杂度：O(nlogn)   最坏时间复杂度：O(n^2)   最好时间复杂度：O(nlogn)\n",
    "\n",
    "空间复杂度：O(logn)~O(n)"
   ],
   "id": "d13e43f874b9e2cf"
  },
  {
   "metadata": {
    "ExecuteTime": {
     "end_time": "2025-06-20T01:41:36.252194Z",
     "start_time": "2025-06-20T01:41:36.236181Z"
    }
   },
   "cell_type": "code",
   "source": [
    "import random\n",
    "def randomsort(arr):\n",
    "    randomsort_helper(arr,0,len(arr)-1)\n",
    "def randomsort_helper(arr,low,high):\n",
    "    if low < high:\n",
    "        pivot_idx = random.randint(low, high)  # 随机选择pivot\n",
    "        arr[pivot_idx], arr[high] = arr[high], arr[pivot_idx]  # 交换到末尾\n",
    "        split_point = part(arr, low, high)\n",
    "        randomsort_helper(arr, low, split_point - 1)\n",
    "        randomsort_helper(arr, split_point + 1, high)\n",
    "def part(arr, low, high):\n",
    "    pivot = arr[high]\n",
    "    i = low\n",
    "    for j in range(low, high):\n",
    "        if arr[j] < pivot:\n",
    "            arr[i], arr[j] = arr[j], arr[i]\n",
    "            i += 1\n",
    "    arr[i], arr[high] = arr[high], arr[i]\n",
    "    return i\n",
    "arr=[2,15,5,7,75,22,10,34,4]\n",
    "print('排序前：',arr)\n",
    "randomsort(arr)\n",
    "print('排序后：',arr)"
   ],
   "id": "f87f41ce28a87e1c",
   "outputs": [
    {
     "name": "stdout",
     "output_type": "stream",
     "text": [
      "排序前： [2, 15, 5, 7, 75, 22, 10, 34, 4]\n",
      "排序后： [2, 4, 5, 7, 10, 15, 22, 34, 75]\n"
     ]
    }
   ],
   "execution_count": 3
  },
  {
   "metadata": {},
   "cell_type": "markdown",
   "source": [
    "# 计数排序\n",
    "\n",
    "通过统计元素频次直接确定位置\n",
    "\n",
    "适用范围：整数且范围较小的数据集\n",
    "\n",
    "步骤：\n",
    "\n",
    "统计每个元素的出现次数，存入计数数组。\n",
    "\n",
    "累加计数数组，得到每个元素的最终位置。\n",
    "\n",
    "反向填充结果数组，保持稳定性。"
   ],
   "id": "955113c826ab2f5d"
  },
  {
   "metadata": {
    "ExecuteTime": {
     "end_time": "2025-06-20T02:56:05.982167Z",
     "start_time": "2025-06-20T02:56:05.962162Z"
    }
   },
   "cell_type": "code",
   "source": [
    "def counting_sort(arr):\n",
    "    max_val = max(arr)#找出数组中的最大值\n",
    "    count = [0] * (max_val + 1)\n",
    "    # 统计频次\n",
    "    for num in arr:\n",
    "        count[num] += 1\n",
    "    # 累加计数\n",
    "    for i in range(1, len(count)):\n",
    "        count[i] += count[i-1]\n",
    "    # 填充结果\n",
    "    result = [0] * len(arr)\n",
    "    for num in reversed(arr): #反向遍历保持稳定性\n",
    "        result[count[num]-1] = num #根据计数数组的位置信息放入结果\n",
    "        count[num] -= 1 #更新计数\n",
    "    return result\n",
    "arr=[2,15,5,7,75,22,10,34,4]\n",
    "print('排序前：',arr)\n",
    "sorted_arr=counting_sort(arr)\n",
    "print('排序后：',sorted_arr)"
   ],
   "id": "3af2f32a07a56e73",
   "outputs": [
    {
     "name": "stdout",
     "output_type": "stream",
     "text": [
      "排序前： [2, 15, 5, 7, 75, 22, 10, 34, 4]\n",
      "排序后： [2, 4, 5, 7, 10, 15, 22, 34, 75]\n"
     ]
    }
   ],
   "execution_count": 8
  },
  {
   "metadata": {},
   "cell_type": "markdown",
   "source": [
    "# 基数排序\n",
    "\n",
    "按位排序：从最低位到最高位依次排序\n",
    "\n",
    "通常使用计数排序作为子程序\n",
    "\n",
    "步骤：\n",
    "\n",
    "找到最大数字的位数（决定排序轮次）\n",
    "\n",
    "从最低位开始，对每一位执行稳定排序（如计数排序）\n",
    "\n",
    "重复直到最高位排序完成"
   ],
   "id": "bf73e1ec3325b19b"
  },
  {
   "metadata": {
    "ExecuteTime": {
     "end_time": "2025-06-20T03:16:16.702598Z",
     "start_time": "2025-06-20T03:16:16.686852Z"
    }
   },
   "cell_type": "code",
   "source": [
    "def radix_sort(arr):\n",
    "    max_num = max(arr)\n",
    "    exp = 1  # 当前位数（1表示个位）\n",
    "    while max_num // exp > 0:\n",
    "        countsort(arr, exp)\n",
    "        exp *= 10\n",
    "def countsort(arr, exp):\n",
    "    count = [0] * 10 #初始化计数数组（0-9一共10个桶）\n",
    "    output = [0] * len(arr)# 初始化输出数组\n",
    "    # 统计当前位的频次\n",
    "    for num in arr:\n",
    "        digit = (num // exp) % 10 #提取当前位数字\n",
    "        count[digit] += 1 #对应数字的计数+1\n",
    "    # 计算元素最终位置\n",
    "    for i in range(1, 10):\n",
    "        count[i] += count[i-1] #累加前一个桶的计数\n",
    "    # 反向遍历原数组\n",
    "    for num in reversed(arr):\n",
    "        digit = (num // exp) % 10\n",
    "        output[count[digit]-1] = num #根据计数数组放置到正确位置\n",
    "        count[digit] -= 1 #更新计数\n",
    "    # 写回原数组\n",
    "    for i in range(len(arr)):\n",
    "        arr[i] = output[i]\n",
    "arr=[2,15,5,7,75,22,10,34,4]\n",
    "print('排序前：',arr)\n",
    "radix_sort(arr)\n",
    "print('排序后：',arr)"
   ],
   "id": "77c678f4dfb19d80",
   "outputs": [
    {
     "name": "stdout",
     "output_type": "stream",
     "text": [
      "排序前： [2, 15, 5, 7, 75, 22, 10, 34, 4]\n",
      "排序后： [2, 4, 5, 7, 10, 15, 22, 34, 75]\n"
     ]
    }
   ],
   "execution_count": 10
  }
 ],
 "metadata": {
  "kernelspec": {
   "display_name": "Python 3",
   "language": "python",
   "name": "python3"
  },
  "language_info": {
   "codemirror_mode": {
    "name": "ipython",
    "version": 2
   },
   "file_extension": ".py",
   "mimetype": "text/x-python",
   "name": "python",
   "nbconvert_exporter": "python",
   "pygments_lexer": "ipython2",
   "version": "2.7.6"
  }
 },
 "nbformat": 4,
 "nbformat_minor": 5
}
