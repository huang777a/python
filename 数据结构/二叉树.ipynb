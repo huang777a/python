{
 "cells": [
  {
   "metadata": {},
   "cell_type": "markdown",
   "source": "# 二叉树",
   "id": "261be882dc0a943f"
  },
  {
   "metadata": {},
   "cell_type": "markdown",
   "source": [
    "父节点下方直接相连的称为子节点，最上方的节点称为根节点，最下方的称为叶子节点\n",
    "\n",
    "根节点到叶子节点经过的节点个数分为二叉树的最大深度/高度\n",
    "\n"
   ],
   "id": "a9d6bc1f0a95e94d"
  },
  {
   "metadata": {},
   "cell_type": "markdown",
   "source": [
    "满二叉树：每一层节点都是满的，总节点个数2^h-1\n",
    "\n",
    "完全二叉树：每一层节点都紧凑靠左排列，除了最后一层其他每层都是满的"
   ],
   "id": "2b5af2d4c0031827"
  },
  {
   "metadata": {},
   "cell_type": "markdown",
   "source": [
    "## 二叉搜索树（BST）\n",
    "\n",
    "左子树的每个节点的值都要小于这个节点的值，右子树的每个节点的值都要大于这个节点的值\n",
    "\n"
   ],
   "id": "c564aa44d36c6906"
  },
  {
   "metadata": {},
   "cell_type": "markdown",
   "source": [
    "## 高度平衡二叉树\n",
    "\n",
    "每个节点的左右子树高度差不超过1\n",
    "\n",
    "N个结点，其高度是O（logN）"
   ],
   "id": "177dba6e0c1bf4a9"
  },
  {
   "metadata": {},
   "cell_type": "markdown",
   "source": "## 二叉树实现方法",
   "id": "64fa807a2cc63c06"
  },
  {
   "metadata": {
    "ExecuteTime": {
     "end_time": "2025-06-16T02:36:28.900188Z",
     "start_time": "2025-06-16T02:36:28.884993Z"
    }
   },
   "cell_type": "code",
   "source": [
    "class TreeNode():\n",
    "    def __init__(self, x:int):\n",
    "        self.val = x\n",
    "        self.left = None\n",
    "        self.right = None\n",
    "        #构建二叉树\n",
    "root = TreeNode(1)\n",
    "root.left = TreeNode(2)\n",
    "root.right = TreeNode(3)\n",
    "root.left.left = TreeNode(4)\n",
    "root.right.left = TreeNode(5)\n",
    "root.right.right = TreeNode(6)"
   ],
   "id": "85f5de7d7a5c802d",
   "outputs": [
    {
     "name": "stdout",
     "output_type": "stream",
     "text": [
      "1\n"
     ]
    }
   ],
   "execution_count": 5
  },
  {
   "metadata": {},
   "cell_type": "markdown",
   "source": "## 二叉树的遍历",
   "id": "f48dd387d6a6b7cb"
  },
  {
   "metadata": {},
   "cell_type": "code",
   "outputs": [],
   "execution_count": null,
   "source": [
    "#遍历框架\n",
    "def traverse(root):\n",
    "    if root is None:\n",
    "        return\n",
    "    # 前序位置\n",
    "    traverse(root.left)\n",
    "    # 中序位置\n",
    "    traverse(root.right)\n",
    "    # 后序位置"
   ],
   "id": "14e990bd0907f3d9"
  },
  {
   "metadata": {},
   "cell_type": "markdown",
   "source": "### 层序遍历",
   "id": "a37120a7523101c4"
  },
  {
   "metadata": {
    "ExecuteTime": {
     "end_time": "2025-06-16T03:11:33.995602Z",
     "start_time": "2025-06-16T03:11:33.983603Z"
    }
   },
   "cell_type": "code",
   "source": [
    "from collections import deque\n",
    "def levelOrderTraverse(root):\n",
    "    if root is None:\n",
    "        print(\"Tree is empty!\")\n",
    "        return\n",
    "    q = deque()\n",
    "    q.append(root)\n",
    "    depth = 1  # 当前层数（根节点为第 1 层）\n",
    "\n",
    "    print(\"Binary Tree Level Order Traversal:\")\n",
    "    print(\"(Format: depth = X, val = Y)\")\n",
    "    print(\"-\" * 30)\n",
    "\n",
    "    while q:\n",
    "        level_size = len(q)  # 当前层的节点数\n",
    "        print(f\"Level {depth}: \", end=\"\")\n",
    "\n",
    "        for _ in range(level_size):\n",
    "            node = q.popleft()\n",
    "            print(f\"{node.val} \", end=\"\")  # 打印当前节点\n",
    "            # 将子节点加入队列\n",
    "            if node.left:\n",
    "                q.append(node.left)\n",
    "            if node.right:\n",
    "                q.append(node.right)\n",
    "        print()\n",
    "        depth += 1\n",
    "# 测试\n",
    "if __name__ == \"__main__\":\n",
    "    # 构建你的二叉树\n",
    "    root = TreeNode(1)\n",
    "    root.left = TreeNode(2)\n",
    "    root.right = TreeNode(3)\n",
    "    root.left.left = TreeNode(4)\n",
    "    root.right.left = TreeNode(5)\n",
    "    root.right.right = TreeNode(6)\n",
    "    levelOrderTraverse(root)"
   ],
   "id": "2f3f396d4db5c41a",
   "outputs": [
    {
     "name": "stdout",
     "output_type": "stream",
     "text": [
      "Binary Tree Level Order Traversal:\n",
      "(Format: depth = X, val = Y)\n",
      "------------------------------\n",
      "Level 1: 1 \n",
      "Level 2: 2 3 \n",
      "Level 3: 4 5 6 \n"
     ]
    }
   ],
   "execution_count": 8
  }
 ],
 "metadata": {
  "kernelspec": {
   "display_name": "Python 3",
   "language": "python",
   "name": "python3"
  },
  "language_info": {
   "codemirror_mode": {
    "name": "ipython",
    "version": 2
   },
   "file_extension": ".py",
   "mimetype": "text/x-python",
   "name": "python",
   "nbconvert_exporter": "python",
   "pygments_lexer": "ipython2",
   "version": "2.7.6"
  }
 },
 "nbformat": 4,
 "nbformat_minor": 5
}
