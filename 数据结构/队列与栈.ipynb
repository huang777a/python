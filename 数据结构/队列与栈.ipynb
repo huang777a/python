{
 "cells": [
  {
   "metadata": {},
   "cell_type": "markdown",
   "source": "# 队列与栈",
   "id": "dd1a3c866e4c8a10"
  },
  {
   "metadata": {},
   "cell_type": "code",
   "outputs": [],
   "execution_count": null,
   "source": [
    "# 队列的基本 API\n",
    "class MyQueue:\n",
    "    # 向队尾插入元素\n",
    "    def push(self, e):\n",
    "        pass\n",
    "    # 从队头删除元素\n",
    "    def pop(self):\n",
    "        pass\n",
    "    # 查看队头元素\n",
    "    def peek(self):\n",
    "        pass\n",
    "    # 返回队列中的元素个数\n",
    "    def size(self):\n",
    "        pass\n",
    "\n",
    "# 栈的基本 API\n",
    "class MyStack:\n",
    "    # 向栈顶插入元素\n",
    "    def push(self, e):\n",
    "        pass\n",
    "    # 从栈顶删除元素\n",
    "    def pop(self):\n",
    "        pass\n",
    "    # 查看栈顶元素\n",
    "    def peek(self):\n",
    "        pass\n",
    "    # 返回栈中的元素个数\n",
    "    def size(self):\n",
    "        pass"
   ],
   "id": "408d4db865247bc8"
  },
  {
   "metadata": {},
   "cell_type": "markdown",
   "source": "## 链表实现队列",
   "id": "ee1f210d6132b25d"
  },
  {
   "metadata": {
    "ExecuteTime": {
     "end_time": "2025-06-13T09:19:18.041357Z",
     "start_time": "2025-06-13T09:19:18.019177Z"
    }
   },
   "cell_type": "code",
   "source": [
    "from collections import deque\n",
    "class a:\n",
    "    def __init__(self):\n",
    "        self.list = deque()\n",
    "    # 向队尾插入元素\n",
    "    def push(self, e):\n",
    "        self.list.append(e)\n",
    "    # 从队头删除元素\n",
    "    def pop(self):\n",
    "        return self.list.popleft()\n",
    "    # 查看队头元素\n",
    "    def peek(self):\n",
    "        return self.list[0]\n",
    "    # 返回队列中的元素个数\n",
    "    def size(self):\n",
    "        return len(self.list)\n",
    "if __name__ == \"__main__\":\n",
    "    queue = a()\n",
    "    queue.push(1)\n",
    "    queue.push(2)\n",
    "    queue.push(3)\n",
    "    print(queue.peek())\n",
    "    print(queue.pop())\n",
    "    print(queue.pop())\n",
    "    print(queue.peek())"
   ],
   "id": "13e6764035a12b7b",
   "outputs": [
    {
     "name": "stdout",
     "output_type": "stream",
     "text": [
      "1\n",
      "1\n",
      "2\n",
      "3\n"
     ]
    }
   ],
   "execution_count": 2
  },
  {
   "metadata": {},
   "cell_type": "markdown",
   "source": "## 数组实现栈",
   "id": "6061f668072423bc"
  },
  {
   "metadata": {
    "ExecuteTime": {
     "end_time": "2025-06-13T09:19:55.237771Z",
     "start_time": "2025-06-13T09:19:55.229884Z"
    }
   },
   "cell_type": "code",
   "source": [
    "class MyArrayStack:\n",
    "    def __init__(self):\n",
    "        self.list = []\n",
    "    # 向栈顶加入元素\n",
    "    def push(self, e):\n",
    "        self.list.append(e)\n",
    "    # 从栈顶弹出元素\n",
    "    def pop(self):\n",
    "        return self.list.pop()\n",
    "    # 查看栈顶元素\n",
    "    def peek(self):\n",
    "        return self.list[-1]\n",
    "    # 返回栈中的元素个数\n",
    "    def size(self):\n",
    "        return len(self.list)\n"
   ],
   "id": "80392384ce5b1b1d",
   "outputs": [],
   "execution_count": 3
  },
  {
   "metadata": {},
   "cell_type": "markdown",
   "source": "## 数组实现队列",
   "id": "e91defa928c70489"
  },
  {
   "metadata": {
    "ExecuteTime": {
     "end_time": "2025-06-13T09:25:05.982836Z",
     "start_time": "2025-06-13T09:25:05.962362Z"
    }
   },
   "cell_type": "code",
   "source": [
    "class CycleArray:\n",
    "    def __init__(self, size=1):\n",
    "        self.size = size\n",
    "        self.arr = [None] * size\n",
    "        #start指向第一个有效元素的索引，闭区间\n",
    "        self.start = 0\n",
    "        #end指向最后一个有效元素的下一个位置索引\n",
    "        self.end = 0\n",
    "        self.count = 0\n",
    "class a:\n",
    "    def __init__(self):\n",
    "        self.arr = CycleArray()\n",
    "    #向栈顶加入元素\n",
    "    def push(self, t):\n",
    "        self.arr.add_last(t)\n",
    "    # 栈顶弹出元素\n",
    "    def pop(self):\n",
    "        return self.arr.remove_first()\n",
    "    #查看栈顶元素\n",
    "    def peek(self):\n",
    "        return self.arr.get_first()\n",
    "    # 返回栈中的元素个数\n",
    "    def size(self):\n",
    "        return self.arr.size()"
   ],
   "id": "271f94bfabc6edab",
   "outputs": [],
   "execution_count": 5
  }
 ],
 "metadata": {
  "kernelspec": {
   "display_name": "Python 3",
   "language": "python",
   "name": "python3"
  },
  "language_info": {
   "codemirror_mode": {
    "name": "ipython",
    "version": 2
   },
   "file_extension": ".py",
   "mimetype": "text/x-python",
   "name": "python",
   "nbconvert_exporter": "python",
   "pygments_lexer": "ipython2",
   "version": "2.7.6"
  }
 },
 "nbformat": 4,
 "nbformat_minor": 5
}
