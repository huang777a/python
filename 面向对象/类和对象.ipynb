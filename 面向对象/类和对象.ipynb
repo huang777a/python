{
 "cells": [
  {
   "metadata": {},
   "cell_type": "markdown",
   "source": [
    "# 类和对象\n",
    "\n",
    "自定义数据类型：\n",
    "\n",
    "class 类名()：\n",
    "\n",
    "    pass\n",
    "\n",
    "创建对象：\n",
    "\n",
    "对象名=类名()"
   ],
   "id": "af3c056e6ab202af"
  },
  {
   "metadata": {},
   "cell_type": "markdown",
   "source": "## 类的组成",
   "id": "634e154ff76d977d"
  },
  {
   "metadata": {
    "ExecuteTime": {
     "end_time": "2025-06-16T09:37:03.732421Z",
     "start_time": "2025-06-16T09:37:03.720912Z"
    }
   },
   "cell_type": "code",
   "source": [
    "class Student:\n",
    "    school='tl school'#类属性：定义在类中，方法外的变量\n",
    "    #初始化方法\n",
    "    def __init__(self,xm,age):#xm,age是方法的参数，是局部变量\n",
    "        self.name=xm #左侧是实例属性，将局部变量xm的值赋值给实例属性\n",
    "        self.age=age\n",
    "\n",
    "\n",
    "    #实例方法，自带self\n",
    "    def show(self):\n",
    "        print(f\"我叫{self.name},今年{self.age}岁\")\n",
    "\n",
    "\n",
    "    #静态方法\n",
    "    @staticmethod\n",
    "    def sm():\n",
    "        print('这是一个静态方法，不能调用实例属性，也不能调用实例方法')\n",
    "\n",
    "\n",
    "    @classmethod\n",
    "    def cm(cls):\n",
    "        print('这是一个类方法,不能调用实例属性，也不能调用实例方法')\n",
    "\n",
    "\n",
    "#创建类的对象\n",
    "stu=Student('huang',21)\n",
    "print(stu.name,stu.age)\n",
    "#实例方法\n",
    "stu.show()\n",
    "#类方法\n",
    "Student.sm()\n",
    "#静态方法\n",
    "Student.cm()"
   ],
   "id": "29dfb4c739023d91",
   "outputs": [
    {
     "name": "stdout",
     "output_type": "stream",
     "text": [
      "huang 21\n",
      "我叫huang,今年21岁\n",
      "这是一个静态方法，不能调用实例属性，也不能调用实例方法\n",
      "这是一个类方法,不能调用实例属性，也不能调用实例方法\n"
     ]
    }
   ],
   "execution_count": 78
  },
  {
   "metadata": {},
   "cell_type": "markdown",
   "source": "## 编写学生类并创建四个学生对象",
   "id": "f6d383216a5ea1ce"
  },
  {
   "metadata": {
    "ExecuteTime": {
     "end_time": "2025-06-16T09:50:16.045286Z",
     "start_time": "2025-06-16T09:50:16.038101Z"
    }
   },
   "cell_type": "code",
   "source": [
    "class Student:\n",
    "    school='tl school'#类属性：定义在类中，方法外的变量\n",
    "    #初始化方法\n",
    "    def __init__(self,xm,age):#xm,age是方法的参数，是局部变量\n",
    "        self.name=xm #左侧是实例属性，将局部变量xm的值赋值给实例属性\n",
    "        self.age=age\n",
    "    #实例方法，自带self\n",
    "    def show(self):\n",
    "        print(f\"我叫{self.name},今年{self.age}岁\")\n",
    "#创建n个对象\n",
    "stu=Student('huang',21)\n",
    "stu1=Student('he',20)\n",
    "stu2=Student('zhou',22)\n",
    "stu3=Student('zhang',21)\n",
    "#将学生对象存储到列表里\n",
    "lst=[stu,stu1,stu2,stu3]\n",
    "for i in lst:\n",
    "    i.show()"
   ],
   "id": "ae96efa53984a0cc",
   "outputs": [
    {
     "name": "stdout",
     "output_type": "stream",
     "text": [
      "我叫huang,今年21岁\n",
      "我叫he,今年20岁\n",
      "我叫zhou,今年22岁\n",
      "我叫zhang,今年21岁\n"
     ]
    }
   ],
   "execution_count": 80
  },
  {
   "metadata": {},
   "cell_type": "markdown",
   "source": "## 动态绑定属性和方法",
   "id": "98ca86403ed12301"
  },
  {
   "metadata": {
    "ExecuteTime": {
     "end_time": "2025-06-16T10:00:35.168503Z",
     "start_time": "2025-06-16T10:00:35.148503Z"
    }
   },
   "cell_type": "code",
   "source": [
    "class Student:\n",
    "    school='tl school'#类属性：定义在类中，方法外的变量\n",
    "    #初始化方法\n",
    "    def __init__(self,xm,age):#xm,age是方法的参数，是局部变量\n",
    "        self.name=xm #左侧是实例属性，将局部变量xm的值赋值给实例属性\n",
    "        self.age=age\n",
    "    #实例方法，自带self\n",
    "    def show(self):\n",
    "        print(f\"我叫{self.name},今年{self.age}岁\")\n",
    "stu=Student('huang',21)\n",
    "stu1=Student('he',20)\n",
    "print(stu.name,stu.age)\n",
    "print(stu1.name,stu1.age)\n",
    "#为stu1动态绑定一个实例属性\n",
    "stu1.gender='男'\n",
    "print(stu1.name,stu1.age,stu1.gender)\n",
    "#动态绑定方法\n",
    "def introduce():\n",
    "    print('普通函数')\n",
    "stu1.fun=introduce\n",
    "stu1.fun()"
   ],
   "id": "49daa885a8cb5ae1",
   "outputs": [
    {
     "name": "stdout",
     "output_type": "stream",
     "text": [
      "huang 21\n",
      "he 20\n",
      "he 20 男\n",
      "普通函数\n"
     ]
    }
   ],
   "execution_count": 87
  }
 ],
 "metadata": {
  "kernelspec": {
   "display_name": "Python 3",
   "language": "python",
   "name": "python3"
  },
  "language_info": {
   "codemirror_mode": {
    "name": "ipython",
    "version": 2
   },
   "file_extension": ".py",
   "mimetype": "text/x-python",
   "name": "python",
   "nbconvert_exporter": "python",
   "pygments_lexer": "ipython2",
   "version": "2.7.6"
  }
 },
 "nbformat": 4,
 "nbformat_minor": 5
}
