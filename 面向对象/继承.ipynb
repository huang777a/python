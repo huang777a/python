{
 "cells": [
  {
   "metadata": {},
   "cell_type": "markdown",
   "source": [
    "# 继承\n",
    "\n",
    "class 类名(父类1，父类2...,父类N)\n",
    "\n",
    "    pass"
   ],
   "id": "cfb9bcb40cf7eb45"
  },
  {
   "metadata": {
    "ExecuteTime": {
     "end_time": "2025-06-17T07:12:50.423218Z",
     "start_time": "2025-06-17T07:12:50.411148Z"
    }
   },
   "cell_type": "code",
   "source": [
    "class Person:\n",
    "    def __init__(self, name, age):\n",
    "        self.name = name\n",
    "        self.age = age\n",
    "    def show(self):\n",
    "        print(f\"我叫{self.name},今年{self.age}岁\")\n",
    "class Student(Person): #Student继承Person类\n",
    "    def __init__(self, name, age, stunum):\n",
    "        super().__init__(name, age)\n",
    "        self.stunum = stunum\n",
    "class Docter(Person):\n",
    "    def __init__(self, name, age, department):\n",
    "        super().__init__(name, age)\n",
    "        self.department = department\n",
    "#创建子类对象\n",
    "stu=Student('huang',21,'0324')\n",
    "stu.show()\n",
    "doc=Docter('chen',24,'外科')\n",
    "doc.show()"
   ],
   "id": "e2822f3d857a7be0",
   "outputs": [
    {
     "name": "stdout",
     "output_type": "stream",
     "text": [
      "我叫huang,今年21岁\n",
      "我叫chen,今年24岁\n"
     ]
    }
   ],
   "execution_count": 1
  },
  {
   "metadata": {},
   "cell_type": "markdown",
   "source": "## 多继承",
   "id": "1a76934b21eb6af0"
  },
  {
   "metadata": {
    "ExecuteTime": {
     "end_time": "2025-06-17T07:38:33.384446Z",
     "start_time": "2025-06-17T07:38:33.371698Z"
    }
   },
   "cell_type": "code",
   "source": [
    "class FatherA():\n",
    "    def __init__(self,name):\n",
    "        self.name = name\n",
    "    def showA(self):\n",
    "        print(self.name)\n",
    "class FatherB():\n",
    "    def __init__(self,age):\n",
    "        self.age = age\n",
    "    def showB(self):\n",
    "        print(self.age)\n",
    "class Son(FatherA,FatherB):\n",
    "    def __init__(self,name,age,gender):\n",
    "        FatherA.__init__(self,name)\n",
    "        FatherB.__init__(self,age)\n",
    "        self.gender = gender\n",
    "son=Son('huang',21,'男')\n",
    "son.showA()\n",
    "son.showB()\n",
    "print(son.gender)"
   ],
   "id": "e247485fdf13433e",
   "outputs": [
    {
     "name": "stdout",
     "output_type": "stream",
     "text": [
      "huang\n",
      "21\n",
      "男\n"
     ]
    }
   ],
   "execution_count": 5
  },
  {
   "metadata": {},
   "cell_type": "markdown",
   "source": [
    "## 方法的重写\n",
    "\n",
    "子类方法名称必须与父类方法名称相同"
   ],
   "id": "b451fbb797884815"
  },
  {
   "metadata": {
    "ExecuteTime": {
     "end_time": "2025-06-17T07:51:41.141674Z",
     "start_time": "2025-06-17T07:51:41.127481Z"
    }
   },
   "cell_type": "code",
   "source": [
    "class Person:\n",
    "    def __init__(self, name, age):\n",
    "        self.name = name\n",
    "        self.age = age\n",
    "    def show(self):\n",
    "        print(f\"我叫{self.name},今年{self.age}岁\")\n",
    "class Student(Person): #Student继承Person类\n",
    "    def __init__(self, name, age, stunum):\n",
    "        super().__init__(name, age)\n",
    "        self.stunum = stunum\n",
    "    def show(self):\n",
    "        super().show()\n",
    "        print(f'我就读于GMU，学号是{self.stunum}')\n",
    "class Docter(Person):\n",
    "    def __init__(self, name, age, department):\n",
    "        super().__init__(name, age)\n",
    "        self.department = department\n",
    "    def show(self):\n",
    "        print(f'我叫{self.name},我今年{self.age}岁，我的工作科室是{self.department}')\n",
    "#创建子类对象\n",
    "stu=Student('huang',21,'0324')\n",
    "stu.show()\n",
    "doc=Docter('chen',24,'外科')\n",
    "doc.show()"
   ],
   "id": "f25ca1a2b8e11b30",
   "outputs": [
    {
     "name": "stdout",
     "output_type": "stream",
     "text": [
      "我叫huang,今年21岁\n",
      "我就读于GMU，学号是0324\n",
      "我叫chen,我今年24岁，我的工作科室是外科\n"
     ]
    }
   ],
   "execution_count": 6
  }
 ],
 "metadata": {
  "kernelspec": {
   "display_name": "Python 3",
   "language": "python",
   "name": "python3"
  },
  "language_info": {
   "codemirror_mode": {
    "name": "ipython",
    "version": 2
   },
   "file_extension": ".py",
   "mimetype": "text/x-python",
   "name": "python",
   "nbconvert_exporter": "python",
   "pygments_lexer": "ipython2",
   "version": "2.7.6"
  }
 },
 "nbformat": 4,
 "nbformat_minor": 5
}
