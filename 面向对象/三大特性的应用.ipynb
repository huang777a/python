{
 "cells": [
  {
   "metadata": {},
   "cell_type": "markdown",
   "source": "# 链表的封装",
   "id": "d53f65d974638ef9"
  },
  {
   "metadata": {
    "ExecuteTime": {
     "end_time": "2025-06-18T09:11:13.579376Z",
     "start_time": "2025-06-18T09:11:13.564378Z"
    }
   },
   "cell_type": "code",
   "source": [
    "class ListNode():\n",
    "    def __init__(self, val=0, next=None):\n",
    "        self.val=val\n",
    "        self.next=next\n",
    "    def travel(self,head):\n",
    "        while head:\n",
    "            print(head.val,end=',')\n",
    "            head=head.next\n",
    "def create_l1():\n",
    "    l1=ListNode()\n",
    "    node1=ListNode(val=2)\n",
    "    node2=ListNode(val=4)\n",
    "    node3=ListNode(val=3)\n",
    "    l1.next=node1\n",
    "    node1.next=node2\n",
    "    node2.next=node3\n",
    "    return l1.next\n",
    "def create_l2():\n",
    "    l2=ListNode()\n",
    "    node1=ListNode(val=5)\n",
    "    node2=ListNode(val=6)\n",
    "    node3=ListNode(val=4)\n",
    "    l2.next=node1\n",
    "    node1.next=node2\n",
    "    node2.next=node3\n",
    "    return l2.next\n",
    "def addTwoNumbers(l1: ListNode, l2: ListNode) -> ListNode:\n",
    "    res = 0\n",
    "    l3 = ListNode()\n",
    "    cur = l3\n",
    "    while(l1 or l2):\n",
    "        if(l1):\n",
    "            res += l1.val  # res=2\n",
    "            l1 = l1.next\n",
    "        if(l2):\n",
    "            res += l2.val # res=2+5=7\n",
    "            l2 = l2.next\n",
    "        # res=10, val=0, res=>val val=res%10\n",
    "        # res=14, val=4, 14%10=4\n",
    "        l3.next = ListNode(res%10)\n",
    "        l3 = l3.next\n",
    "        res  //= 10\n",
    "    if res == 1:\n",
    "        l3.next = ListNode(1)\n",
    "    return cur.next\n",
    "print(create_l1(),create_l2())\n"
   ],
   "id": "a5145824abef0b6c",
   "outputs": [
    {
     "name": "stdout",
     "output_type": "stream",
     "text": [
      "<__main__.ListNode object at 0x0000021BB36D3190> <__main__.ListNode object at 0x0000021BB3875A90>\n"
     ]
    }
   ],
   "execution_count": 7
  },
  {
   "metadata": {},
   "cell_type": "markdown",
   "source": "# 栈的封装",
   "id": "4f3166450b665c9f"
  },
  {
   "metadata": {
    "ExecuteTime": {
     "end_time": "2025-06-18T09:14:05.395740Z",
     "start_time": "2025-06-18T09:14:05.376365Z"
    }
   },
   "cell_type": "code",
   "source": [
    "class Stack(object):\n",
    "    #栈的封装[1, 2, 3, 4]\n",
    "    def __init__(self):\n",
    "        self.stack = []\n",
    "    def push(self, value):\n",
    "        #入栈\n",
    "        self.stack.append(value)\n",
    "        print(f\"入栈元素为{value}\")\n",
    "    def pop(self):\n",
    "        #出栈\n",
    "        if self.is_empty():\n",
    "            raise  Exception(\"栈为空\")\n",
    "        item = self.stack.pop()\n",
    "        print(f\"出栈元素为{item}\")\n",
    "        return  item\n",
    "    def is_empty(self):\n",
    "        #判断栈是否为空\n",
    "        return  len(self.stack) == 0\n",
    "    def top(self):\n",
    "        #返回栈顶元素\n",
    "        if self.is_empty():\n",
    "            raise  Exception(\"栈为空\")\n",
    "        return  self.stack[-1]\n",
    "    def __len__(self):\n",
    "        return  len(self.stack)\n",
    "if __name__ == '__main__':\n",
    "    stack = Stack()\n",
    "    stack.push(1)\n",
    "    stack.push(2)\n",
    "    stack.push(3)\n",
    "    print(len(stack))\n",
    "    stack.pop()\n",
    "    print(stack.is_empty())\n",
    "    print(stack.top())"
   ],
   "id": "336f43f17387819f",
   "outputs": [
    {
     "name": "stdout",
     "output_type": "stream",
     "text": [
      "入栈元素为1\n",
      "入栈元素为2\n",
      "入栈元素为3\n",
      "3\n",
      "出栈元素为3\n",
      "False\n",
      "2\n"
     ]
    }
   ],
   "execution_count": 9
  },
  {
   "metadata": {},
   "cell_type": "markdown",
   "source": "# 队列的封装",
   "id": "9d6628f9dab9a6de"
  },
  {
   "metadata": {
    "ExecuteTime": {
     "end_time": "2025-06-18T09:17:05.065956Z",
     "start_time": "2025-06-18T09:17:05.045955Z"
    }
   },
   "cell_type": "code",
   "source": [
    "class Queue(object):\n",
    "    def __init__(self):\n",
    "        self.queue = []\n",
    "    def enqueue(self, value):\n",
    "        #入队\n",
    "        self.queue.insert(0, value)\n",
    "        print(\"入队元素为:\", value)\n",
    "\n",
    "    def dequeue(self):\n",
    "        #出队\n",
    "        if self.is_empty():\n",
    "            raise  Exception(\"队列为空\")\n",
    "        item = self.queue.pop()\n",
    "        print(\"出队元素:\", item)\n",
    "        return  item\n",
    "    def __len__(self):\n",
    "        #获取队列的长度\n",
    "        return  len(self.queue)\n",
    "    def first(self):\n",
    "        #获取队头元素\n",
    "        if self.is_empty():\n",
    "            raise Exception(\"队列为空\")\n",
    "        return  self.queue[-1]\n",
    "    def last(self):\n",
    "        #获取队尾元素\n",
    "        if self.is_empty():\n",
    "            raise Exception(\"队列为空\")\n",
    "        return  self.queue[0]\n",
    "    def is_empty(self):\n",
    "        #判断队列是否为空\n",
    "        return  len(self.queue) == 0\n",
    "if __name__ == '__main__':\n",
    "    queue = Queue()\n",
    "    queue.enqueue(1)\n",
    "    queue.enqueue(2)\n",
    "    queue.enqueue(3)\n",
    "    print(queue.is_empty())\n",
    "    queue.dequeue()\n",
    "    print(queue.first())\n",
    "    print(queue.last())"
   ],
   "id": "9ca0901e471c0a27",
   "outputs": [
    {
     "name": "stdout",
     "output_type": "stream",
     "text": [
      "入队元素为: 1\n",
      "入队元素为: 2\n",
      "入队元素为: 3\n",
      "False\n",
      "出队元素: 1\n",
      "2\n",
      "3\n"
     ]
    }
   ],
   "execution_count": 10
  }
 ],
 "metadata": {
  "kernelspec": {
   "display_name": "Python 3",
   "language": "python",
   "name": "python3"
  },
  "language_info": {
   "codemirror_mode": {
    "name": "ipython",
    "version": 2
   },
   "file_extension": ".py",
   "mimetype": "text/x-python",
   "name": "python",
   "nbconvert_exporter": "python",
   "pygments_lexer": "ipython2",
   "version": "2.7.6"
  }
 },
 "nbformat": 4,
 "nbformat_minor": 5
}
