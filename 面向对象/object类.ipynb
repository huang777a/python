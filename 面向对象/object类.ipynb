{
 "cells": [
  {
   "metadata": {},
   "cell_type": "markdown",
   "source": [
    "# Object类\n",
    "\n",
    "是所有类的直接或间接的父类\n",
    "\n",
    "所有类都拥有object类的属性和方法\n",
    "\n",
    "## object类中的特殊方法：\n",
    "\n",
    "__new__():系统调用，用于创建对象\n",
    "\n",
    "__init__():创建对象时手动调用，用于初始化对象属性值\n",
    "\n",
    "__str__():对象的描述，返回值是str类型，默认输出对象的内存地址"
   ],
   "id": "6c62532bf39d4e98"
  },
  {
   "metadata": {
    "ExecuteTime": {
     "end_time": "2025-06-18T07:17:00.738453Z",
     "start_time": "2025-06-18T07:17:00.729446Z"
    }
   },
   "cell_type": "code",
   "source": [
    "class Person(object):\n",
    "    def __init__(self, name, age):\n",
    "        self.name = name\n",
    "        self.age = age\n",
    "    def show(self):\n",
    "        print(f\"我叫{self.name},今年{self.age}岁\")\n",
    "#创建Person类的对象\n",
    "per=Person('huang',21)\n",
    "print(dir(per))\n",
    "per.show()"
   ],
   "id": "d460d1a0c2a55235",
   "outputs": [
    {
     "name": "stdout",
     "output_type": "stream",
     "text": [
      "['__class__', '__delattr__', '__dict__', '__dir__', '__doc__', '__eq__', '__format__', '__ge__', '__getattribute__', '__gt__', '__hash__', '__init__', '__init_subclass__', '__le__', '__lt__', '__module__', '__ne__', '__new__', '__reduce__', '__reduce_ex__', '__repr__', '__setattr__', '__sizeof__', '__str__', '__subclasshook__', '__weakref__', 'age', 'name', 'show']\n",
      "我叫huang,今年21岁\n"
     ]
    }
   ],
   "execution_count": 1
  },
  {
   "metadata": {
    "ExecuteTime": {
     "end_time": "2025-06-18T07:31:11.215377Z",
     "start_time": "2025-06-18T07:31:11.199376Z"
    }
   },
   "cell_type": "code",
   "source": [
    "class Person(object):\n",
    "    def __init__(self, name, age):\n",
    "        self.name = name\n",
    "        self.age = age\n",
    "    #方法重写\n",
    "    def __str__(self):\n",
    "        return \"这是个人类\"\n",
    "per=Person('huang',21)\n",
    "print(per)\n",
    "print(per.__str__())#手动调用"
   ],
   "id": "4c9430a09285be83",
   "outputs": [
    {
     "name": "stdout",
     "output_type": "stream",
     "text": [
      "这是个人类\n",
      "这是个人类\n"
     ]
    }
   ],
   "execution_count": 3
  }
 ],
 "metadata": {
  "kernelspec": {
   "display_name": "Python 3",
   "language": "python",
   "name": "python3"
  },
  "language_info": {
   "codemirror_mode": {
    "name": "ipython",
    "version": 2
   },
   "file_extension": ".py",
   "mimetype": "text/x-python",
   "name": "python",
   "nbconvert_exporter": "python",
   "pygments_lexer": "ipython2",
   "version": "2.7.6"
  }
 },
 "nbformat": 4,
 "nbformat_minor": 5
}
