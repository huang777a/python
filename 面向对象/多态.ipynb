{
 "cells": [
  {
   "metadata": {},
   "cell_type": "markdown",
   "source": [
    "# 多态\n",
    "\n",
    "python中的多态，不关心对象的数据类型，只关心对象是否具有同名方法"
   ],
   "id": "ab6ac12e0d808b95"
  },
  {
   "metadata": {
    "ExecuteTime": {
     "end_time": "2025-06-17T08:10:46.973102Z",
     "start_time": "2025-06-17T08:10:46.961496Z"
    }
   },
   "cell_type": "code",
   "source": [
    "class Person():\n",
    "    def eat(self):\n",
    "        print('人，吃五谷杂粮')\n",
    "class Dog():\n",
    "    def eat(self):\n",
    "        print(\"狗吃骨头\")\n",
    "class Cat():\n",
    "    def eat(self):\n",
    "        print('猫吃鱼')\n",
    "def fun(obj):#obj是函数的形参\n",
    "    obj.eat()\n",
    "#创建三个类的对象\n",
    "per=Person()\n",
    "cat=Cat()\n",
    "dog = Dog()\n",
    "#调用fun函数\n",
    "fun(per)\n",
    "fun(cat)\n",
    "fun(dog)"
   ],
   "id": "fceb946b74ba37e5",
   "outputs": [
    {
     "name": "stdout",
     "output_type": "stream",
     "text": [
      "人，吃五谷杂粮\n",
      "猫吃鱼\n",
      "狗吃骨头\n"
     ]
    }
   ],
   "execution_count": 1
  }
 ],
 "metadata": {
  "kernelspec": {
   "display_name": "Python 3",
   "language": "python",
   "name": "python3"
  },
  "language_info": {
   "codemirror_mode": {
    "name": "ipython",
    "version": 2
   },
   "file_extension": ".py",
   "mimetype": "text/x-python",
   "name": "python",
   "nbconvert_exporter": "python",
   "pygments_lexer": "ipython2",
   "version": "2.7.6"
  }
 },
 "nbformat": 4,
 "nbformat_minor": 5
}
