{
 "cells": [
  {
   "metadata": {},
   "cell_type": "markdown",
   "source": [
    "# 多态\n",
    "\n",
    "多态就是接口的多种不同的实现方式\n",
    "\n",
    "多态的好处就是，当我们需要传入更多的子类，只需要继承父类就可以了，而方法既可以直接不重写（即使用父类的），也可以重写一个特有的"
   ],
   "id": "ab6ac12e0d808b95"
  },
  {
   "metadata": {
    "ExecuteTime": {
     "end_time": "2025-06-18T07:52:49.684612Z",
     "start_time": "2025-06-18T07:52:49.669610Z"
    }
   },
   "cell_type": "code",
   "source": [
    "class Animal:\n",
    "    def speak(self):\n",
    "        pass\n",
    "class Dog(Animal):\n",
    "    def speak(self):\n",
    "        return \"汪汪汪!\"\n",
    "class Cat(Animal):\n",
    "    def speak(self):\n",
    "        return \"喵喵喵!\"\n",
    "class Duck(Animal):\n",
    "    def speak(self):\n",
    "        return \"嘎嘎嘎!\"\n",
    "def speak(animal):\n",
    "    print(animal.speak())\n",
    "# 创建不同动物实例\n",
    "dog = Dog()\n",
    "cat = Cat()\n",
    "duck = Duck()\n",
    "speak(dog)\n",
    "speak(cat)\n",
    "speak(duck)"
   ],
   "id": "fceb946b74ba37e5",
   "outputs": [
    {
     "name": "stdout",
     "output_type": "stream",
     "text": [
      "汪汪汪!\n",
      "喵喵喵!\n",
      "嘎嘎嘎!\n"
     ]
    }
   ],
   "execution_count": 3
  },
  {
   "metadata": {
    "ExecuteTime": {
     "end_time": "2025-06-18T07:53:27.155086Z",
     "start_time": "2025-06-18T07:53:27.139086Z"
    }
   },
   "cell_type": "code",
   "source": [
    "class Car:\n",
    "    def move(self):\n",
    "        return \"汽车在行驶...\"\n",
    "class Airplane:\n",
    "    def move(self):\n",
    "        return \"飞机在飞行...\"\n",
    "class Ship:\n",
    "    def move(self):\n",
    "        return \"轮船在航行...\"\n",
    "def move1(transport):\n",
    "    print(transport.move())\n",
    "# 使用不同的交通工具\n",
    "car = Car()\n",
    "airplane = Airplane()\n",
    "ship = Ship()\n",
    "move1(car)\n",
    "move1(airplane)\n",
    "move1(ship)"
   ],
   "id": "981713eac4867735",
   "outputs": [
    {
     "name": "stdout",
     "output_type": "stream",
     "text": [
      "汽车在行驶...\n",
      "飞机在飞行...\n",
      "轮船在航行...\n"
     ]
    }
   ],
   "execution_count": 4
  }
 ],
 "metadata": {
  "kernelspec": {
   "display_name": "Python 3",
   "language": "python",
   "name": "python3"
  },
  "language_info": {
   "codemirror_mode": {
    "name": "ipython",
    "version": 2
   },
   "file_extension": ".py",
   "mimetype": "text/x-python",
   "name": "python",
   "nbconvert_exporter": "python",
   "pygments_lexer": "ipython2",
   "version": "2.7.6"
  }
 },
 "nbformat": 4,
 "nbformat_minor": 5
}
