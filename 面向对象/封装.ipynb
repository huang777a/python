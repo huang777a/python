{
 "cells": [
  {
   "metadata": {},
   "cell_type": "markdown",
   "source": [
    "# 封装\n",
    "\n",
    "封装的目的是：\n",
    "\n",
    "保护数据：防止对象的内部数据被外部代码直接访问和修改。\n",
    "\n",
    "提供接口：只允许外部代码通过对象提供的方法来访问和修改数据。"
   ],
   "id": "2fe2d967eae74a36"
  },
  {
   "metadata": {
    "ExecuteTime": {
     "end_time": "2025-06-17T06:37:56.810395Z",
     "start_time": "2025-06-17T06:37:56.791868Z"
    }
   },
   "cell_type": "code",
   "source": [
    "class Student():\n",
    "    def __init__(self,name,age,gender):\n",
    "        self._name = name #._表示受保护的，只能本类和子类访问\n",
    "        self.__age = age #__表示私有的，只能本类去访问\n",
    "        self.gender = gender #普通实例属性，类的内部外部及子类都可以访问\n",
    "    def _fun1(self):\n",
    "        print('子类及本身可以访问')\n",
    "    def __fun2(self):\n",
    "        print('只有定义的类可以访问')\n",
    "    def show(self):\n",
    "        self._fun1() #类本身访问受保护的方法\n",
    "        self.__fun2() #类本身访问私有方法\n",
    "        print(self._name)\n",
    "        print(self.__age)\n",
    "#创建学生类对象\n",
    "stu=Student('huang',21,'男')\n",
    "print(stu._name)\n",
    "stu._fun1()\n",
    "print(stu._Student__age)#访问私有的实例属性\n",
    "stu._Student__fun2()#访问私有的方法"
   ],
   "id": "5b88cd7c06193175",
   "outputs": [
    {
     "name": "stdout",
     "output_type": "stream",
     "text": [
      "huang\n",
      "子类及本身可以访问\n",
      "21\n",
      "只有定义的类可以访问\n"
     ]
    }
   ],
   "execution_count": 5
  },
  {
   "metadata": {},
   "cell_type": "markdown",
   "source": "## 属性的设置",
   "id": "9d78d6dc73968c00"
  },
  {
   "metadata": {
    "ExecuteTime": {
     "end_time": "2025-06-17T06:54:46.310092Z",
     "start_time": "2025-06-17T06:54:46.301156Z"
    }
   },
   "cell_type": "code",
   "source": [
    "class Student:\n",
    "    def __init__(self,name,gender):\n",
    "        self.name = name\n",
    "        self.__gender=gender\n",
    "    @property #修改方法，将方法转成属性使用\n",
    "    def gender(self):\n",
    "        return self.__gender\n",
    "    #将gender这个属性设置为可写\n",
    "    @gender.setter\n",
    "    def gender(self,value):\n",
    "        self.__gender=value\n",
    "stu=Student('huang','男')\n",
    "print(stu.name,'的性别是',stu.gender)\n",
    "stu.gender='女'\n",
    "print(stu.gender)"
   ],
   "id": "c7ea356e47977848",
   "outputs": [
    {
     "name": "stdout",
     "output_type": "stream",
     "text": [
      "huang 的性别是 男\n",
      "女\n"
     ]
    }
   ],
   "execution_count": 9
  }
 ],
 "metadata": {
  "kernelspec": {
   "display_name": "Python 3",
   "language": "python",
   "name": "python3"
  },
  "language_info": {
   "codemirror_mode": {
    "name": "ipython",
    "version": 2
   },
   "file_extension": ".py",
   "mimetype": "text/x-python",
   "name": "python",
   "nbconvert_exporter": "python",
   "pygments_lexer": "ipython2",
   "version": "2.7.6"
  }
 },
 "nbformat": 4,
 "nbformat_minor": 5
}
