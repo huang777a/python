{
 "cells": [
  {
   "metadata": {},
   "cell_type": "markdown",
   "source": "# 权限控制",
   "id": "2fe2d967eae74a36"
  },
  {
   "metadata": {},
   "cell_type": "code",
   "outputs": [],
   "execution_count": null,
   "source": [
    "class Student():\n",
    "    def __init__(self,name,age,gender):\n",
    "        self._name = name #._表示受保护的，只能本类和子类访问\n",
    "        self.__age = age #__表示私有的，只能本类去访问\n",
    "        self.gender = gender #普通实例属性，类的内部外部及子类都可以访问\n",
    "    def _fun1(self):\n",
    "        print('子类及本身可以访问')\n",
    "    def __fun2(self):\n",
    "        print('只有定义的类可以访问')\n",
    "    def show(self):\n",
    "        self._fun1() #类本身访问受保护的方法\n",
    "        self.__fun2() #类本身访问私有方法\n",
    "        print(self._name)\n",
    "        print(self.__age)"
   ],
   "id": "5b88cd7c06193175"
  }
 ],
 "metadata": {
  "kernelspec": {
   "display_name": "Python 3",
   "language": "python",
   "name": "python3"
  },
  "language_info": {
   "codemirror_mode": {
    "name": "ipython",
    "version": 2
   },
   "file_extension": ".py",
   "mimetype": "text/x-python",
   "name": "python",
   "nbconvert_exporter": "python",
   "pygments_lexer": "ipython2",
   "version": "2.7.6"
  }
 },
 "nbformat": 4,
 "nbformat_minor": 5
}
